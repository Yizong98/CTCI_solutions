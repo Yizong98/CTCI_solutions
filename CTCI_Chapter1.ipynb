{
 "cells": [
  {
   "cell_type": "markdown",
   "metadata": {},
   "source": [
    "## 1.1 Is Unique: Implement an algorithm to determine if a string has all unique characters. What if you cannot use additional data structures?"
   ]
  },
  {
   "cell_type": "code",
   "execution_count": 3,
   "metadata": {},
   "outputs": [],
   "source": [
    "# Example: \"abcdefg\" -> True \"aacdr\" --> False \"ccccccc\" --> False \"1231bcdefg\" --> False\n",
    "# O(n)\n",
    "def unique_hash(string):\n",
    "    table = dict()\n",
    "    for c in string:\n",
    "        if c in table:\n",
    "            return False\n",
    "        table[c] = 1\n",
    "    return True"
   ]
  },
  {
   "cell_type": "code",
   "execution_count": 6,
   "metadata": {},
   "outputs": [
    {
     "data": {
      "text/plain": [
       "False"
      ]
     },
     "execution_count": 6,
     "metadata": {},
     "output_type": "execute_result"
    }
   ],
   "source": [
    "unique_hash(\"1231bcdefg\")"
   ]
  },
  {
   "cell_type": "code",
   "execution_count": 14,
   "metadata": {},
   "outputs": [
    {
     "data": {
      "text/plain": [
       "True"
      ]
     },
     "execution_count": 14,
     "metadata": {},
     "output_type": "execute_result"
    }
   ],
   "source": [
    "unique_hash(\"abcdefg\")"
   ]
  },
  {
   "cell_type": "code",
   "execution_count": 12,
   "metadata": {},
   "outputs": [],
   "source": [
    "#O(n^2)\n",
    "def unique_nospace(string):\n",
    "    for i in range(len(string)):\n",
    "        for j in range(i+1,len(string)):\n",
    "            if string[i] == string[j]:\n",
    "                return False\n",
    "    return True"
   ]
  },
  {
   "cell_type": "code",
   "execution_count": 13,
   "metadata": {},
   "outputs": [
    {
     "data": {
      "text/plain": [
       "True"
      ]
     },
     "execution_count": 13,
     "metadata": {},
     "output_type": "execute_result"
    }
   ],
   "source": [
    "unique_nospace(\"abcdefg\")"
   ]
  },
  {
   "cell_type": "markdown",
   "metadata": {},
   "source": [
    "## Tips:\n",
    "1. Ask about ASCII string(128) or a Unicode string. \n",
    "2. Assume 256 characters(for exteneded ASCII string) and clarifies. \n",
    "3. Can also use bitwise or."
   ]
  },
  {
   "cell_type": "markdown",
   "metadata": {},
   "source": [
    "## 1.2 Check Permutation: Given two strings, write a method to decide if one is a permutation of the other."
   ]
  },
  {
   "cell_type": "code",
   "execution_count": 20,
   "metadata": {},
   "outputs": [],
   "source": [
    "#Example (\"abaaaa\",\"abb\") --> False (\"abbc\",\"bbca\") --> True (\"adddddc\",\"cdddadd\") --> True\n",
    "#O(n)\n",
    "def check_permutation(str1,str2):\n",
    "    if len(str1) != len(str2):\n",
    "        return False\n",
    "    # TWO PASS\n",
    "    dict1 = dict()\n",
    "    dict2 = dict()\n",
    "    for i in str1:\n",
    "        dict1[i] = dict1.get(i,0) + 1\n",
    "    for i in str2:\n",
    "        dict2[i] = dict2.get(i,0) + 1\n",
    "    return dict1 == dict2"
   ]
  },
  {
   "cell_type": "code",
   "execution_count": 21,
   "metadata": {},
   "outputs": [
    {
     "data": {
      "text/plain": [
       "False"
      ]
     },
     "execution_count": 21,
     "metadata": {},
     "output_type": "execute_result"
    }
   ],
   "source": [
    "check_permutation(\"abaaaa\",\"abb\")"
   ]
  },
  {
   "cell_type": "code",
   "execution_count": 22,
   "metadata": {},
   "outputs": [
    {
     "data": {
      "text/plain": [
       "True"
      ]
     },
     "execution_count": 22,
     "metadata": {},
     "output_type": "execute_result"
    }
   ],
   "source": [
    "check_permutation(\"abbc\",\"bbca\")"
   ]
  },
  {
   "cell_type": "markdown",
   "metadata": {},
   "source": [
    "## 1.3 URLify: Write a method to replace all spaces in a string with '%20'. You may assume that the string has sufficient space at the end to hold the additional characters,and that you are given the \"true\" length of the string. (Note: If implementing in Java,please use a character array so that you can perform this operation in place.)\n",
    "EXAMPLE\n",
    "Input: \"Mr John Smith \", 13 Output: \"Mr%20John%20Smith\""
   ]
  },
  {
   "cell_type": "code",
   "execution_count": 33,
   "metadata": {},
   "outputs": [],
   "source": [
    "import re\n",
    "def URLify(string1):\n",
    "    return re.sub(r\"\\s\",\"%20\",string1.strip())"
   ]
  },
  {
   "cell_type": "code",
   "execution_count": 34,
   "metadata": {},
   "outputs": [
    {
     "data": {
      "text/plain": [
       "'HAAPPY%20HOUR'"
      ]
     },
     "execution_count": 34,
     "metadata": {},
     "output_type": "execute_result"
    }
   ],
   "source": [
    "URLify(\"HAAPPY HOUR \")"
   ]
  },
  {
   "cell_type": "code",
   "execution_count": 66,
   "metadata": {},
   "outputs": [],
   "source": [
    "#Example: \"aas rr(sliding)   (tracker)\" --> \"aas%20rr\"\n",
    "#Walkthrough: \" aas%20rr\"\n",
    "#O(n)\n",
    "def URLify_place(string1,true_len):\n",
    "    if len(string1) == true_len:\n",
    "        return string1\n",
    "    char_arr = list(string1)\n",
    "    tracker = len(char_arr) - 1\n",
    "    sliding = true_len - 1\n",
    "    # first pass\n",
    "    while(tracker >= 0):\n",
    "        if char_arr[sliding] == \" \":\n",
    "            # could be a function\n",
    "            char_arr[tracker] = \"0\"\n",
    "            tracker -= 1\n",
    "            char_arr[tracker] = \"2\"\n",
    "            tracker -= 1\n",
    "            char_arr[tracker] = \"%\"\n",
    "            tracker -= 1\n",
    "        else:\n",
    "            char_arr[tracker] = char_arr[sliding]\n",
    "            tracker -= 1\n",
    "        sliding -= 1\n",
    "    return \"\".join(char_arr)"
   ]
  },
  {
   "cell_type": "code",
   "execution_count": 67,
   "metadata": {},
   "outputs": [
    {
     "data": {
      "text/plain": [
       "'Mr%20John%20Smith'"
      ]
     },
     "execution_count": 67,
     "metadata": {},
     "output_type": "execute_result"
    }
   ],
   "source": [
    "URLify_place(\"Mr John Smith    \",13)"
   ]
  },
  {
   "cell_type": "code",
   "execution_count": 72,
   "metadata": {},
   "outputs": [
    {
     "data": {
      "text/plain": [
       "'aas%20rr'"
      ]
     },
     "execution_count": 72,
     "metadata": {},
     "output_type": "execute_result"
    }
   ],
   "source": [
    "URLify_place(\"aas rr  \",6)"
   ]
  },
  {
   "cell_type": "code",
   "execution_count": 69,
   "metadata": {},
   "outputs": [
    {
     "data": {
      "text/plain": [
       "'%20HAAPPY%20HOUR'"
      ]
     },
     "execution_count": 69,
     "metadata": {},
     "output_type": "execute_result"
    }
   ],
   "source": [
    "URLify_place(\" HAAPPY HOUR    \",12)"
   ]
  },
  {
   "cell_type": "markdown",
   "metadata": {},
   "source": [
    "## 1.4 Palindrome Permutation: Given a string, write a function to check if it is a permutation of a palindrome. A palindrome is a word or phrase that is the same forwards and backwards. A permutation is a rearrangement of letters. The palindrome does not need to be limited to just dictionary words.\n",
    "EXAMPLE\n",
    "Input: Tact Coa\n",
    "Output: True (permutations: \"taco cat\", \"atco eta\", etc.)"
   ]
  },
  {
   "cell_type": "code",
   "execution_count": 102,
   "metadata": {},
   "outputs": [],
   "source": [
    "# \"aba\" --> True \"acc\"--> true \"caca\"-->true \"a\" --> true \"bac\" --> False\n",
    "def check_palin(string):\n",
    "    import collections as co\n",
    "    check1 = False\n",
    "    counter = co.Counter(string.lower())\n",
    "    for i in counter:\n",
    "        if counter[i] % 2 != 0 and i != \" \":\n",
    "            if not check1:\n",
    "                check1 = True\n",
    "            else:\n",
    "                return False\n",
    "    return True\n",
    "#O(n)"
   ]
  },
  {
   "cell_type": "code",
   "execution_count": 103,
   "metadata": {},
   "outputs": [
    {
     "data": {
      "text/plain": [
       "True"
      ]
     },
     "execution_count": 103,
     "metadata": {},
     "output_type": "execute_result"
    }
   ],
   "source": [
    "check_palin(\"Tact Coa\")"
   ]
  },
  {
   "cell_type": "code",
   "execution_count": 104,
   "metadata": {},
   "outputs": [
    {
     "data": {
      "text/plain": [
       "True"
      ]
     },
     "execution_count": 104,
     "metadata": {},
     "output_type": "execute_result"
    }
   ],
   "source": [
    "check_palin(\"aba\")"
   ]
  },
  {
   "cell_type": "code",
   "execution_count": 105,
   "metadata": {},
   "outputs": [
    {
     "data": {
      "text/plain": [
       "False"
      ]
     },
     "execution_count": 105,
     "metadata": {},
     "output_type": "execute_result"
    }
   ],
   "source": [
    "check_palin(\"bac\")"
   ]
  },
  {
   "cell_type": "markdown",
   "metadata": {},
   "source": [
    "## Tips:\n",
    "1. Think about case where there is space or tab.\n",
    "2. Check lower case or capital when dealing with text "
   ]
  },
  {
   "cell_type": "markdown",
   "metadata": {},
   "source": [
    "## 1.5 One Away: There are three types of edits that can be performed on strings: insert a character, remove a character, or replace a character. Given two strings, write a function to check if they are one edit (or zero edits) away.\n",
    "EXAMPLE\n",
    "pale, ple -> true pales, pale -> true pale, bale -> true pale, bake -> false"
   ]
  },
  {
   "cell_type": "code",
   "execution_count": null,
   "metadata": {},
   "outputs": [],
   "source": [
    "# \"aaa\", \"aac\"  -> true  \"lae\",\"ale\"\n",
    "# \"bble\", \"able\" -> true"
   ]
  },
  {
   "cell_type": "code",
   "execution_count": 119,
   "metadata": {},
   "outputs": [],
   "source": [
    "def one_way_normal(str1,str2):\n",
    "    l1 = len(str1)\n",
    "    l2 = len(str2)\n",
    "    one_edit = False\n",
    "    iter_len = min(l1,l2)\n",
    "    if abs(l1 - l2) > 1:\n",
    "        return False\n",
    "    for i in range(iter_len):\n",
    "        if (str1[i] != str2[i]):\n",
    "            if str1[i+1:] == str2[i:] or str1[i:] == str2[i+1:] or str2[i] + str1[i:] == str2[i:] \\\n",
    "            or str1[i] + str2[i:] == str1[i:] or str1[i+1:] == str2[i+1:]:\n",
    "                return True\n",
    "            else:\n",
    "                return False\n",
    "    return True\n",
    "#O(n^2) since slicing takes O(n)\n",
    "    \n",
    "            "
   ]
  },
  {
   "cell_type": "code",
   "execution_count": 130,
   "metadata": {},
   "outputs": [
    {
     "data": {
      "text/plain": [
       "True"
      ]
     },
     "execution_count": 130,
     "metadata": {},
     "output_type": "execute_result"
    }
   ],
   "source": [
    "one_way_normal(\"aaa\",\"aac\")"
   ]
  },
  {
   "cell_type": "code",
   "execution_count": 131,
   "metadata": {},
   "outputs": [
    {
     "data": {
      "text/plain": [
       "False"
      ]
     },
     "execution_count": 131,
     "metadata": {},
     "output_type": "execute_result"
    }
   ],
   "source": [
    "one_way_normal(\"pale\",\"bake\")"
   ]
  },
  {
   "cell_type": "code",
   "execution_count": 136,
   "metadata": {},
   "outputs": [],
   "source": [
    "def one_way_dp(str1,str2):\n",
    "    matrix = [[0]*(len(str2)+1) for _ in range(len(str1)+1)]\n",
    "    for i in range(len(str1)+1):\n",
    "        matrix[i][0] = i\n",
    "    for i in range(len(str2)+1):\n",
    "        matrix[0][i] = i\n",
    "    for i in range(1,len(str1)+1):\n",
    "        for j in range(1,len(str2)+1):\n",
    "            match = matrix[i-1][j-1] if str1[i-1] == str2[j-1] else matrix[i-1][j-1]+1\n",
    "            insert = matrix[i-1][j] + 1\n",
    "            delete = matrix[i][j-1] + 1\n",
    "            matrix[i][j] = min(match,insert,delete)\n",
    "    return matrix[len(str1)][len(str2)] in [0,1]\n",
    "#O(n^2)"
   ]
  },
  {
   "cell_type": "code",
   "execution_count": 137,
   "metadata": {},
   "outputs": [
    {
     "data": {
      "text/plain": [
       "False"
      ]
     },
     "execution_count": 137,
     "metadata": {},
     "output_type": "execute_result"
    }
   ],
   "source": [
    "one_way_dp(\"pale\",\"bake\")"
   ]
  },
  {
   "cell_type": "code",
   "execution_count": 138,
   "metadata": {},
   "outputs": [
    {
     "data": {
      "text/plain": [
       "True"
      ]
     },
     "execution_count": 138,
     "metadata": {},
     "output_type": "execute_result"
    }
   ],
   "source": [
    "one_way_dp(\"pale\",\"ple\")"
   ]
  },
  {
   "cell_type": "code",
   "execution_count": 139,
   "metadata": {},
   "outputs": [
    {
     "data": {
      "text/plain": [
       "True"
      ]
     },
     "execution_count": 139,
     "metadata": {},
     "output_type": "execute_result"
    }
   ],
   "source": [
    "one_way_dp(\"aaa\",\"aac\")"
   ]
  },
  {
   "cell_type": "code",
   "execution_count": 141,
   "metadata": {},
   "outputs": [],
   "source": [
    "# Re-implementation of solution in the book\n",
    "# Version one: Modularization\n",
    "def check_remove(str1,str2):\n",
    "    p1 = 0\n",
    "    p2 = 0\n",
    "    # str1 is a bigger array\n",
    "    while (p2 < len(str2)):\n",
    "        if (str1[p1] != str1[p2]):\n",
    "            if p1 != p2:\n",
    "                return False\n",
    "            p1 += 1\n",
    "        else:\n",
    "            p1 += 1\n",
    "            p2 += 1\n",
    "    return True\n",
    "                \n",
    "def check_replace(str1,str2):\n",
    "    check = False\n",
    "    for i in range(len(str1)):\n",
    "        if str1[i] != str2[i]:\n",
    "            if check:\n",
    "                return False\n",
    "            check = True\n",
    "    return True\n",
    "        \n",
    "#O(n)    \n",
    "def one_way_solution1(str1,str2):\n",
    "    if (len(str1) == len(str2)):\n",
    "        return check_replace(str1,str2)\n",
    "    elif(len(str1) - 1 == len(str2)):\n",
    "        return check_remove(str1,str2)\n",
    "    elif(len(str1) == len(str2) - 1):\n",
    "        return check_remove(str2,str1)\n",
    "    return False"
   ]
  },
  {
   "cell_type": "code",
   "execution_count": 142,
   "metadata": {},
   "outputs": [
    {
     "data": {
      "text/plain": [
       "True"
      ]
     },
     "execution_count": 142,
     "metadata": {},
     "output_type": "execute_result"
    }
   ],
   "source": [
    "one_way_solution1(\"aaa\",\"aac\")"
   ]
  },
  {
   "cell_type": "code",
   "execution_count": 143,
   "metadata": {},
   "outputs": [
    {
     "data": {
      "text/plain": [
       "True"
      ]
     },
     "execution_count": 143,
     "metadata": {},
     "output_type": "execute_result"
    }
   ],
   "source": [
    "one_way_solution1(\"pale\",\"ple\")"
   ]
  },
  {
   "cell_type": "code",
   "execution_count": 144,
   "metadata": {},
   "outputs": [
    {
     "data": {
      "text/plain": [
       "False"
      ]
     },
     "execution_count": 144,
     "metadata": {},
     "output_type": "execute_result"
    }
   ],
   "source": [
    "one_way_solution1(\"pale\",\"bake\")"
   ]
  },
  {
   "cell_type": "code",
   "execution_count": 149,
   "metadata": {},
   "outputs": [],
   "source": [
    "#version 2: wrapper\n",
    "#O(n)\n",
    "def one_way_solution2(str1,str2):\n",
    "    if abs(len(str1) - len(str2) > 1):\n",
    "        return False\n",
    "    p1 = p2 = 0\n",
    "    longer = str1 if len(str1) > len(str2) else str2\n",
    "    shorter = str2 if len(str1) > len(str2) else str1\n",
    "    check = False\n",
    "    while(p1 < len(shorter)):\n",
    "        if longer[p2] != shorter[p1]:\n",
    "            if check:\n",
    "                return False\n",
    "            check = True\n",
    "            if len(shorter) == len(longer):\n",
    "                p1 += 1\n",
    "        else:\n",
    "            p1 += 1\n",
    "        p2 += 1\n",
    "    return True\n",
    "                \n",
    "        \n",
    "    "
   ]
  },
  {
   "cell_type": "code",
   "execution_count": 150,
   "metadata": {},
   "outputs": [
    {
     "data": {
      "text/plain": [
       "True"
      ]
     },
     "execution_count": 150,
     "metadata": {},
     "output_type": "execute_result"
    }
   ],
   "source": [
    "one_way_solution2(\"aaa\",\"aac\")"
   ]
  },
  {
   "cell_type": "code",
   "execution_count": 151,
   "metadata": {},
   "outputs": [
    {
     "data": {
      "text/plain": [
       "True"
      ]
     },
     "execution_count": 151,
     "metadata": {},
     "output_type": "execute_result"
    }
   ],
   "source": [
    "one_way_solution2(\"pale\",\"ple\")"
   ]
  },
  {
   "cell_type": "code",
   "execution_count": 152,
   "metadata": {},
   "outputs": [
    {
     "data": {
      "text/plain": [
       "False"
      ]
     },
     "execution_count": 152,
     "metadata": {},
     "output_type": "execute_result"
    }
   ],
   "source": [
    "one_way_solution2(\"pale\",\"bake\")"
   ]
  },
  {
   "cell_type": "markdown",
   "metadata": {},
   "source": [
    "## Tips:\n",
    "1. Removal and Insert are the same. Just need to switch order. Eg: ab a, insert b in the second is equal to delete b in the first.\n",
    "2. Replacement is only possible when lengths are equal.  \n",
    "3. The trick is to find shorter string and create two pointers that move accordingly."
   ]
  },
  {
   "cell_type": "markdown",
   "metadata": {},
   "source": [
    "## Problem with the book:\n",
    "The condition: ``` index2 < s2.length() && indexl < sl.length() ``` is not necessary in ```oneEditinsert```. \n",
    "\n",
    "*Proof*: By design, s1 is one char shorter than s2. We need to prove that if ```indexl < sl.length()```, then index2 must be within range. Without loss of generality, suppose two strings with abitrary length but with one char difference. s1 = xxxxxx....(X), s2 = xxxxxx...(XY). When s1 reaches its end, there is at most one mismatch. This means index2 is either the same as index1 or one unit beyond. If index1 == index2, both increments one. The condition ```indexl < sl.length()``` suffice, loop exits. If index2 > index1, in which index2 is the last index of s2, there are two possible cases, a match and mismatch. If it is a match, ```indexl < sl.length()``` suffice, loop exits, if not, ```indexl !=index2``` suffices, ```False``` is return. Therefore, the condition ```indexl < sl.length()``` is enough for the loop.\n",
    "\n",
    "The same applies to the second solution."
   ]
  },
  {
   "cell_type": "markdown",
   "metadata": {},
   "source": [
    "## 1.6 String Compression: Implement a method to perform basic string compression using the counts of repeated characters. \n",
    "### For example, the string aabcccccaaa would become a2b1c5a3. If the \"compressed\" string would not become smaller than the original string, your method should return the original string. You can assume the string has only uppercase and lowercase letters (a - z)."
   ]
  },
  {
   "cell_type": "code",
   "execution_count": 4,
   "metadata": {},
   "outputs": [],
   "source": [
    "#Example: \"abc\" -> \"abc\", \"gggggaaaabbbbbeacde\" -> \"g5a4b5e1a1c1d1e1\", \"gggggaaaabbbbbeacdefghi\" -> \"gggggaaaabbbbbeacdefghi\"\n",
    "def compress_pointer(string):\n",
    "    if len(string) in [0,1]:\n",
    "        return string\n",
    "    new_str = string[0]\n",
    "    prev = string[0]\n",
    "    cnt = 1\n",
    "    for i in range(1,len(string)):\n",
    "        if string[i] == prev:\n",
    "            cnt += 1\n",
    "        else:\n",
    "            new_str += str(cnt)\n",
    "            new_str += string[i]\n",
    "            prev = string[i]\n",
    "            cnt = 1\n",
    "    new_str += str(cnt)\n",
    "    return new_str if len(new_str) < len(string) else string\n",
    "#Analysis: O(n^2) since string concatenation is O(n)\n",
    "        \n",
    "    \n",
    "\n"
   ]
  },
  {
   "cell_type": "code",
   "execution_count": 5,
   "metadata": {},
   "outputs": [
    {
     "data": {
      "text/plain": [
       "'a2b1c5a3'"
      ]
     },
     "execution_count": 5,
     "metadata": {},
     "output_type": "execute_result"
    }
   ],
   "source": [
    "compress_pointer(\"aabcccccaaa\")"
   ]
  },
  {
   "cell_type": "code",
   "execution_count": 6,
   "metadata": {},
   "outputs": [
    {
     "data": {
      "text/plain": [
       "'abc'"
      ]
     },
     "execution_count": 6,
     "metadata": {},
     "output_type": "execute_result"
    }
   ],
   "source": [
    "compress_pointer(\"abc\")"
   ]
  },
  {
   "cell_type": "code",
   "execution_count": 7,
   "metadata": {},
   "outputs": [
    {
     "data": {
      "text/plain": [
       "'g5a4b5e1a1c1d1e1'"
      ]
     },
     "execution_count": 7,
     "metadata": {},
     "output_type": "execute_result"
    }
   ],
   "source": [
    "compress_pointer(\"gggggaaaabbbbbeacde\")"
   ]
  },
  {
   "cell_type": "code",
   "execution_count": 8,
   "metadata": {},
   "outputs": [
    {
     "data": {
      "text/plain": [
       "'gggggaaaabbbbbeacdefghi'"
      ]
     },
     "execution_count": 8,
     "metadata": {},
     "output_type": "execute_result"
    }
   ],
   "source": [
    "compress_pointer(\"gggggaaaabbbbbeacdefghi\")"
   ]
  },
  {
   "cell_type": "code",
   "execution_count": 18,
   "metadata": {},
   "outputs": [],
   "source": [
    "def compress_linear(str1):\n",
    "    checker = pre_checker(str1)\n",
    "    char_arr = []\n",
    "    temp_cnt = 0\n",
    "    if checker >= len(str1):\n",
    "        return str1\n",
    "    for i in range(len(str1)):\n",
    "        temp_cnt += 1\n",
    "        if (i + 1 == len(str1) or str1[i] != str1[i+1]):\n",
    "            char_arr.append(str1[i])\n",
    "            char_arr.append(str(temp_cnt))\n",
    "            temp_cnt = 0\n",
    "    return \"\".join(char_arr)\n",
    "def pre_checker(str1):\n",
    "    temp_cnt = 0\n",
    "    total_cnt = 0\n",
    "    for i in range(len(str1)):\n",
    "        temp_cnt += 1\n",
    "        if (i + 1 == len(str1) or str1[i] != str1[i+1]):\n",
    "            total_cnt += 1 + len(str(temp_cnt))\n",
    "            temp_cnt = 0\n",
    "    return total_cnt"
   ]
  },
  {
   "cell_type": "code",
   "execution_count": 19,
   "metadata": {},
   "outputs": [
    {
     "data": {
      "text/plain": [
       "'a2b1c5a3'"
      ]
     },
     "execution_count": 19,
     "metadata": {},
     "output_type": "execute_result"
    }
   ],
   "source": [
    "compress_linear(\"aabcccccaaa\")"
   ]
  },
  {
   "cell_type": "code",
   "execution_count": 20,
   "metadata": {},
   "outputs": [
    {
     "data": {
      "text/plain": [
       "'abc'"
      ]
     },
     "execution_count": 20,
     "metadata": {},
     "output_type": "execute_result"
    }
   ],
   "source": [
    "compress_linear(\"abc\")"
   ]
  },
  {
   "cell_type": "code",
   "execution_count": 21,
   "metadata": {},
   "outputs": [
    {
     "data": {
      "text/plain": [
       "'g5a4b5e1a1c1d1e1'"
      ]
     },
     "execution_count": 21,
     "metadata": {},
     "output_type": "execute_result"
    }
   ],
   "source": [
    "compress_linear(\"gggggaaaabbbbbeacde\")"
   ]
  },
  {
   "cell_type": "code",
   "execution_count": 22,
   "metadata": {},
   "outputs": [
    {
     "data": {
      "text/plain": [
       "'gggggaaaabbbbbeacdefghi'"
      ]
     },
     "execution_count": 22,
     "metadata": {},
     "output_type": "execute_result"
    }
   ],
   "source": [
    "compress_linear(\"gggggaaaabbbbbeacdefghi\")"
   ]
  },
  {
   "cell_type": "markdown",
   "metadata": {},
   "source": [
    "## Tips:\n",
    "1. It is VERY important to know slicing ``` [a:b] ``` and string concatenation take O(n) even though there is only one loop.\n",
    "2. Prechecking saves a lot of uncessary work. \n",
    "3. The trick is to use a array that simulates a char array(counterpart to STRINGBUILDER in JAVA), and append (O(1)), and eventually join(O(n)) outside of loop. "
   ]
  },
  {
   "cell_type": "markdown",
   "metadata": {},
   "source": [
    "## 1.7 Rotate Matrix: Given an image represented by an NxN matrix, where each pixel in the image is 4 bytes, write a method to rotate the image by 90 degrees. Can you do this in place?"
   ]
  },
  {
   "cell_type": "code",
   "execution_count": 51,
   "metadata": {},
   "outputs": [],
   "source": [
    "#Example\n",
    "'''\n",
    "1234     d951\n",
    "5678  -> ea62\n",
    "9abc     fb73\n",
    "defg     gc84\n",
    "'''\n",
    "\n",
    "#Walkthrough\n",
    "'''\n",
    "1234     d951\n",
    "5678  -> ea62\n",
    "9abc     fb73\n",
    "defg     gc84\n",
    "\n",
    "First Group:\n",
    "\n",
    "Step1:\n",
    "d231\n",
    "5678\n",
    "9abc\n",
    "gef4\n",
    "\n",
    "Step2:\n",
    "d931\n",
    "5672\n",
    "fabc\n",
    "ge84\n",
    "\n",
    "'''\n",
    "# swap (0,1) --> (1,3) --> (3,2) --> (2,0) --> (0,1);\n",
    "# (0,0) --> (0,3) --> (3,3) --> (3,0) -- > (0,0)\n",
    "# (1,1) --> (1,2) --> (2,2) --> (2,1) --> (1,1)\n",
    "#BCT: O(n^2) since we need to rotate all elements\n",
    "def rotate_inplace(matrix):\n",
    "    # We only need to do half of N matrix swaps\n",
    "    for i in range(len(matrix)//2):\n",
    "        start = i\n",
    "        end = len(matrix) - i - 1\n",
    "        for j in range(start,end):\n",
    "            offset = j - start\n",
    "            top = matrix[start][j]\n",
    "            # Start\n",
    "            matrix[start][j] = matrix[end-offset][start]\n",
    "            # Left\n",
    "            matrix[end-offset][start] = matrix[end][end-offset]\n",
    "            # Bottom\n",
    "            matrix[end][end-offset] = matrix[j][end]\n",
    "            # Right\n",
    "            matrix[j][end] = top\n",
    "    return matrix"
   ]
  },
  {
   "cell_type": "code",
   "execution_count": 68,
   "metadata": {},
   "outputs": [
    {
     "data": {
      "text/plain": [
       "[[16, 11, 6, 1], [17, 12, 7, 2], [18, 13, 8, 3], [19, 14, 9, 4]]"
      ]
     },
     "execution_count": 68,
     "metadata": {},
     "output_type": "execute_result"
    }
   ],
   "source": [
    "def rotate_inplace_reimplement(matrix):\n",
    "    '''\n",
    "    Example:\n",
    "    1234     d951\n",
    "    5678  -> ea62\n",
    "    9abc     fb73\n",
    "    defg     gc84\n",
    "    '''\n",
    "    for i in range(len(matrix)//2):\n",
    "        end = len(matrix)-1-i\n",
    "        for j in range(i,end):\n",
    "            left = matrix[end-(j-i)][i]\n",
    "            matrix[end-(j-i)][i] = matrix[end][end-(j-i)]\n",
    "            matrix[end][end-(j-i)] = matrix[j][end]\n",
    "            matrix[j][end] = matrix[i][j]\n",
    "            matrix[i][j] = left\n",
    "    return matrix\n",
    "\n",
    "test_matrix = [[i + 5*j for i in range(1,5)] for j in range(0,4)]\n",
    "rotate_inplace_reimplement(test_matrix)            \n",
    "            "
   ]
  },
  {
   "cell_type": "code",
   "execution_count": 48,
   "metadata": {},
   "outputs": [
    {
     "data": {
      "text/plain": [
       "[[16, 11, 6, 3], [17, 12, 7, 9], [18, 13, 8, 14], [19, 2, 1, 4]]"
      ]
     },
     "execution_count": 48,
     "metadata": {},
     "output_type": "execute_result"
    }
   ],
   "source": [
    "rotate_inplace([[i + 5*j for i in range(1,5)] for j in range(0,4)])"
   ]
  },
  {
   "cell_type": "code",
   "execution_count": 41,
   "metadata": {},
   "outputs": [
    {
     "data": {
      "text/plain": [
       "[[16, 11, 6, 1], [17, 13, 12, 2], [18, 8, 7, 3], [19, 14, 9, 4]]"
      ]
     },
     "execution_count": 41,
     "metadata": {},
     "output_type": "execute_result"
    }
   ],
   "source": [
    "test_matrix"
   ]
  },
  {
   "cell_type": "code",
   "execution_count": 39,
   "metadata": {},
   "outputs": [
    {
     "data": {
      "text/plain": [
       "[[1, 6, 11, 16], [17, 7, 13, 2], [18, 12, 8, 3], [19, 9, 14, 4]]"
      ]
     },
     "execution_count": 39,
     "metadata": {},
     "output_type": "execute_result"
    }
   ],
   "source": [
    "test_matrix"
   ]
  },
  {
   "cell_type": "markdown",
   "metadata": {},
   "source": [
    "## Tips:\n",
    "1. The key to the problem is to find each counterpart of left, right, top and bottom. \n",
    "2. Keep in mind the concept of offset when writing, the offset should be relative to the current matrix, normally should be ```inside loop index - starting outside loop index```.\n",
    "3. Keep in mind, the outside loop is only needed for n/2 since we are shrinking the matrix each time we finished the inside swapping."
   ]
  },
  {
   "cell_type": "markdown",
   "metadata": {},
   "source": [
    "## 1.8 Zero Matrix: Write an algorithm such that if an element in an MxN matrix is 0, its entire row and column are set to 0."
   ]
  },
  {
   "cell_type": "code",
   "execution_count": 73,
   "metadata": {},
   "outputs": [],
   "source": [
    "#Example:\n",
    "\"\"\"\n",
    "123\n",
    "456 --> same\n",
    "789\n",
    "\n",
    "012    000\n",
    "345 -> 045\n",
    "789    089\n",
    "\n",
    "012    000\n",
    "345 -->040\n",
    "780    000\n",
    "\n",
    "012    000\n",
    "305 -->000\n",
    "789    009\n",
    "\"\"\"\n",
    "#BCT: n^2 examine each entry\n",
    "def zero_matrix(matrix):\n",
    "    visited_col = visited_row = []\n",
    "    for row in range(len(matrix)):\n",
    "        for col in range(len(matrix[0])):\n",
    "            #set zero\n",
    "            if matrix[row][col] == 0 and row not in visited_row and col not in visited_col:\n",
    "                for cidx in range(len(matrix[0])):\n",
    "                    matrix[row][cidx] = 0\n",
    "                for ridx in range(len(matrix)):\n",
    "                    matrix[ridx][col] = 0\n",
    "                visited_row.append(row)\n",
    "                visited_col.append(col)\n",
    "                break\n",
    "    return matrix\n",
    "            \n",
    "            \n",
    "                    "
   ]
  },
  {
   "cell_type": "code",
   "execution_count": 74,
   "metadata": {},
   "outputs": [
    {
     "data": {
      "text/plain": [
       "[[1, 2, 3], [4, 5, 6], [7, 8, 9]]"
      ]
     },
     "execution_count": 74,
     "metadata": {},
     "output_type": "execute_result"
    }
   ],
   "source": [
    "test1 = [[1,2,3],[4,5,6],[7,8,9]]\n",
    "zero_matrix(test1)"
   ]
  },
  {
   "cell_type": "code",
   "execution_count": 75,
   "metadata": {},
   "outputs": [
    {
     "data": {
      "text/plain": [
       "[[0, 0, 0], [0, 4, 5], [0, 8, 9]]"
      ]
     },
     "execution_count": 75,
     "metadata": {},
     "output_type": "execute_result"
    }
   ],
   "source": [
    "test2 = [[0,1,2],[3,4,5],[7,8,9]]\n",
    "zero_matrix(test2)"
   ]
  },
  {
   "cell_type": "code",
   "execution_count": 76,
   "metadata": {},
   "outputs": [
    {
     "data": {
      "text/plain": [
       "[[0, 0, 0], [0, 4, 0], [0, 0, 0]]"
      ]
     },
     "execution_count": 76,
     "metadata": {},
     "output_type": "execute_result"
    }
   ],
   "source": [
    "test3 = [[0,1,2],[3,4,5],[7,8,0]]\n",
    "zero_matrix(test3)"
   ]
  },
  {
   "cell_type": "code",
   "execution_count": 77,
   "metadata": {},
   "outputs": [
    {
     "data": {
      "text/plain": [
       "[[0, 0, 0], [0, 0, 0], [0, 0, 9]]"
      ]
     },
     "execution_count": 77,
     "metadata": {},
     "output_type": "execute_result"
    }
   ],
   "source": [
    "test4 = [[0,1,2],[3,0,5],[7,8,9]]\n",
    "zero_matrix(test4)"
   ]
  },
  {
   "cell_type": "code",
   "execution_count": 78,
   "metadata": {},
   "outputs": [
    {
     "data": {
      "text/plain": [
       "[[0, 0, 0], [0, 0, 0], [0, 0, 0]]"
      ]
     },
     "execution_count": 78,
     "metadata": {},
     "output_type": "execute_result"
    }
   ],
   "source": [
    "test5 = [[0,1,2],[3,0,5],[7,8,0]]\n",
    "zero_matrix(test5)"
   ]
  },
  {
   "cell_type": "markdown",
   "metadata": {},
   "source": [
    "## Tips:\n",
    "1. I believe my solution is much better than the given one. The algorithm implements the logic of Graph Search, which has an array "
   ]
  },
  {
   "cell_type": "markdown",
   "metadata": {},
   "source": [
    "## 1.9 String Rotation: Assume you have a method isSubstringwhich checks if one word is a substring of another. Given two strings, sl and s2, write code to check if s2 is a rotation of sl using only one call to isSubstring (e.g.,\"waterbottle\" is a rotation of\"erbottlewat\")."
   ]
  },
  {
   "cell_type": "code",
   "execution_count": null,
   "metadata": {},
   "outputs": [],
   "source": []
  }
 ],
 "metadata": {
  "kernelspec": {
   "display_name": "Python 3",
   "language": "python",
   "name": "python3"
  },
  "language_info": {
   "codemirror_mode": {
    "name": "ipython",
    "version": 3
   },
   "file_extension": ".py",
   "mimetype": "text/x-python",
   "name": "python",
   "nbconvert_exporter": "python",
   "pygments_lexer": "ipython3",
   "version": "3.7.0"
  }
 },
 "nbformat": 4,
 "nbformat_minor": 2
}
