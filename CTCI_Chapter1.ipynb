{
 "cells": [
  {
   "cell_type": "markdown",
   "metadata": {},
   "source": [
    "## 1.1 Is Unique: Implement an algorithm to determine if a string has all unique characters. What if you cannot use additional data structures?"
   ]
  },
  {
   "cell_type": "code",
   "execution_count": 3,
   "metadata": {},
   "outputs": [],
   "source": [
    "# Example: \"abcdefg\" -> True \"aacdr\" --> False \"ccccccc\" --> False \"1231bcdefg\" --> False\n",
    "def unique_hash(string):\n",
    "    table = dict()\n",
    "    for c in string:\n",
    "        if c in table:\n",
    "            return False\n",
    "        table[c] = 1\n",
    "    return True"
   ]
  },
  {
   "cell_type": "code",
   "execution_count": 6,
   "metadata": {},
   "outputs": [
    {
     "data": {
      "text/plain": [
       "False"
      ]
     },
     "execution_count": 6,
     "metadata": {},
     "output_type": "execute_result"
    }
   ],
   "source": [
    "unique_hash(\"1231bcdefg\")"
   ]
  },
  {
   "cell_type": "code",
   "execution_count": 14,
   "metadata": {},
   "outputs": [
    {
     "data": {
      "text/plain": [
       "True"
      ]
     },
     "execution_count": 14,
     "metadata": {},
     "output_type": "execute_result"
    }
   ],
   "source": [
    "unique_hash(\"abcdefg\")"
   ]
  },
  {
   "cell_type": "code",
   "execution_count": 12,
   "metadata": {},
   "outputs": [],
   "source": [
    "def unique_nospace(string):\n",
    "    for i in range(len(string)):\n",
    "        for j in range(i+1,len(string)):\n",
    "            if string[i] == string[j]:\n",
    "                return False\n",
    "    return True"
   ]
  },
  {
   "cell_type": "code",
   "execution_count": 13,
   "metadata": {},
   "outputs": [
    {
     "data": {
      "text/plain": [
       "True"
      ]
     },
     "execution_count": 13,
     "metadata": {},
     "output_type": "execute_result"
    }
   ],
   "source": [
    "unique_nospace(\"abcdefg\")"
   ]
  },
  {
   "cell_type": "markdown",
   "metadata": {},
   "source": [
    "## Tips:\n",
    "1. Ask about ASCII string(128) or a Unicode string. \n",
    "2. Assume 256 characters(for exteneded ASCII string) and clarifies. \n",
    "3. Can also use bitwise or."
   ]
  },
  {
   "cell_type": "markdown",
   "metadata": {},
   "source": [
    "## 1.2 Check Permutation: Given two strings, write a method to decide if one is a permutation of the other."
   ]
  },
  {
   "cell_type": "code",
   "execution_count": 20,
   "metadata": {},
   "outputs": [],
   "source": [
    "#Example (\"abaaaa\",\"abb\") --> False (\"abbc\",\"bbca\") --> True (\"adddddc\",\"cdddadd\") --> True\n",
    "def check_permutation(str1,str2):\n",
    "    if len(str1) != len(str2):\n",
    "        return False\n",
    "    # TWO PASS\n",
    "    dict1 = dict()\n",
    "    dict2 = dict()\n",
    "    for i in str1:\n",
    "        dict1[i] = dict1.get(i,0) + 1\n",
    "    for i in str2:\n",
    "        dict2[i] = dict2.get(i,0) + 1\n",
    "    return dict1 == dict2"
   ]
  },
  {
   "cell_type": "code",
   "execution_count": 21,
   "metadata": {},
   "outputs": [
    {
     "data": {
      "text/plain": [
       "False"
      ]
     },
     "execution_count": 21,
     "metadata": {},
     "output_type": "execute_result"
    }
   ],
   "source": [
    "check_permutation(\"abaaaa\",\"abb\")"
   ]
  },
  {
   "cell_type": "code",
   "execution_count": 22,
   "metadata": {},
   "outputs": [
    {
     "data": {
      "text/plain": [
       "True"
      ]
     },
     "execution_count": 22,
     "metadata": {},
     "output_type": "execute_result"
    }
   ],
   "source": [
    "check_permutation(\"abbc\",\"bbca\")"
   ]
  },
  {
   "cell_type": "markdown",
   "metadata": {},
   "source": [
    "## 1.3 URLify: Write a method to replace all spaces in a string with '%20'. You may assume that the string has sufficient space at the end to hold the additional characters,and that you are given the \"true\" length of the string. (Note: If implementing in Java,please use a character array so that you can perform this operation in place.)\n",
    "EXAMPLE\n",
    "Input: \"Mr John Smith \", 13 Output: \"Mr%20John%20Smith\""
   ]
  },
  {
   "cell_type": "code",
   "execution_count": 33,
   "metadata": {},
   "outputs": [],
   "source": [
    "import re\n",
    "def URLify(string1):\n",
    "    return re.sub(r\"\\s\",\"%20\",string1.strip())"
   ]
  },
  {
   "cell_type": "code",
   "execution_count": 34,
   "metadata": {},
   "outputs": [
    {
     "data": {
      "text/plain": [
       "'HAAPPY%20HOUR'"
      ]
     },
     "execution_count": 34,
     "metadata": {},
     "output_type": "execute_result"
    }
   ],
   "source": [
    "URLify(\"HAAPPY HOUR \")"
   ]
  },
  {
   "cell_type": "code",
   "execution_count": 66,
   "metadata": {},
   "outputs": [],
   "source": [
    "#Example: \"aas rr(sliding)   (tracker)\" --> \"aas%20rr\"\n",
    "#Walkthrough: \" aas%20rr\"\n",
    "def URLify_place(string1,true_len):\n",
    "    if len(string1) == true_len:\n",
    "        return string1\n",
    "    char_arr = list(string1)\n",
    "    tracker = len(char_arr) - 1\n",
    "    sliding = true_len - 1\n",
    "    # first pass\n",
    "    while(tracker >= 0):\n",
    "        if char_arr[sliding] == \" \":\n",
    "            # could be a function\n",
    "            char_arr[tracker] = \"0\"\n",
    "            tracker -= 1\n",
    "            char_arr[tracker] = \"2\"\n",
    "            tracker -= 1\n",
    "            char_arr[tracker] = \"%\"\n",
    "            tracker -= 1\n",
    "        else:\n",
    "            char_arr[tracker] = char_arr[sliding]\n",
    "            tracker -= 1\n",
    "        sliding -= 1\n",
    "    return \"\".join(char_arr)"
   ]
  },
  {
   "cell_type": "code",
   "execution_count": 67,
   "metadata": {},
   "outputs": [
    {
     "data": {
      "text/plain": [
       "'Mr%20John%20Smith'"
      ]
     },
     "execution_count": 67,
     "metadata": {},
     "output_type": "execute_result"
    }
   ],
   "source": [
    "URLify_place(\"Mr John Smith    \",13)"
   ]
  },
  {
   "cell_type": "code",
   "execution_count": 72,
   "metadata": {},
   "outputs": [
    {
     "data": {
      "text/plain": [
       "'aas%20rr'"
      ]
     },
     "execution_count": 72,
     "metadata": {},
     "output_type": "execute_result"
    }
   ],
   "source": [
    "URLify_place(\"aas rr  \",6)"
   ]
  },
  {
   "cell_type": "code",
   "execution_count": 69,
   "metadata": {},
   "outputs": [
    {
     "data": {
      "text/plain": [
       "'%20HAAPPY%20HOUR'"
      ]
     },
     "execution_count": 69,
     "metadata": {},
     "output_type": "execute_result"
    }
   ],
   "source": [
    "URLify_place(\" HAAPPY HOUR    \",12)"
   ]
  },
  {
   "cell_type": "markdown",
   "metadata": {},
   "source": [
    "## 1.4 Palindrome Permutation: Given a string, write a function to check if it is a permutation of a palindrome. A palindrome is a word or phrase that is the same forwards and backwards. A permutation is a rearrangement of letters. The palindrome does not need to be limited to just dictionary words.\n",
    "EXAMPLE\n",
    "Input: Tact Coa\n",
    "Output: True (permutations: \"taco cat\", \"atco eta\", etc.)"
   ]
  },
  {
   "cell_type": "code",
   "execution_count": 102,
   "metadata": {},
   "outputs": [],
   "source": [
    "# \"aba\" --> True \"acc\"--> true \"caca\"-->true \"a\" --> true \"bac\" --> False\n",
    "def check_palin(string):\n",
    "    import collections as co\n",
    "    check1 = False\n",
    "    counter = co.Counter(string.lower())\n",
    "    for i in counter:\n",
    "        if counter[i] % 2 != 0 and i != \" \":\n",
    "            if not check1:\n",
    "                check1 = True\n",
    "            else:\n",
    "                return False\n",
    "    return True\n",
    "            "
   ]
  },
  {
   "cell_type": "code",
   "execution_count": 103,
   "metadata": {},
   "outputs": [
    {
     "data": {
      "text/plain": [
       "True"
      ]
     },
     "execution_count": 103,
     "metadata": {},
     "output_type": "execute_result"
    }
   ],
   "source": [
    "check_palin(\"Tact Coa\")"
   ]
  },
  {
   "cell_type": "code",
   "execution_count": 104,
   "metadata": {},
   "outputs": [
    {
     "data": {
      "text/plain": [
       "True"
      ]
     },
     "execution_count": 104,
     "metadata": {},
     "output_type": "execute_result"
    }
   ],
   "source": [
    "check_palin(\"aba\")"
   ]
  },
  {
   "cell_type": "code",
   "execution_count": 105,
   "metadata": {},
   "outputs": [
    {
     "data": {
      "text/plain": [
       "False"
      ]
     },
     "execution_count": 105,
     "metadata": {},
     "output_type": "execute_result"
    }
   ],
   "source": [
    "check_palin(\"bac\")"
   ]
  },
  {
   "cell_type": "markdown",
   "metadata": {},
   "source": [
    "## Tips:\n",
    "1. Think about case where there is space or tab.\n",
    "2. Check lower case or capital when dealing with text "
   ]
  },
  {
   "cell_type": "markdown",
   "metadata": {},
   "source": [
    "## 1.5 One Away: There are three types of edits that can be performed on strings: insert a character, remove a character, or replace a character. Given two strings, write a function to check if they are one edit (or zero edits) away.\n",
    "EXAMPLE\n",
    "pale, ple -> true pales, pale -> true pale, bale -> true pale, bake -> false"
   ]
  },
  {
   "cell_type": "code",
   "execution_count": null,
   "metadata": {},
   "outputs": [],
   "source": [
    "# \"aaa\", \"aac\"  -> true  \"lae\",\"ale\"\n",
    "# \"bble\", \"able\" -> true"
   ]
  },
  {
   "cell_type": "code",
   "execution_count": 119,
   "metadata": {},
   "outputs": [],
   "source": [
    "def one_way_normal(str1,str2):\n",
    "    l1 = len(str1)\n",
    "    l2 = len(str2)\n",
    "    one_edit = False\n",
    "    iter_len = min(l1,l2)\n",
    "    if abs(l1 - l2) > 1:\n",
    "        return False\n",
    "    for i in range(iter_len):\n",
    "        if (str1[i] != str2[i]):\n",
    "            if str1[i+1:] == str2[i:] or str1[i:] == str2[i+1:] or str2[i] + str1[i:] == str2[i:] \\\n",
    "            or str1[i] + str2[i:] == str1[i:] or str1[i+1:] == str2[i+1:]:\n",
    "                return True\n",
    "            else:\n",
    "                return False\n",
    "    return True\n",
    "            \n",
    "        \n",
    "    \n",
    "            "
   ]
  },
  {
   "cell_type": "code",
   "execution_count": 130,
   "metadata": {},
   "outputs": [
    {
     "data": {
      "text/plain": [
       "True"
      ]
     },
     "execution_count": 130,
     "metadata": {},
     "output_type": "execute_result"
    }
   ],
   "source": [
    "one_way_normal(\"aaa\",\"aac\")"
   ]
  },
  {
   "cell_type": "code",
   "execution_count": 131,
   "metadata": {},
   "outputs": [
    {
     "data": {
      "text/plain": [
       "False"
      ]
     },
     "execution_count": 131,
     "metadata": {},
     "output_type": "execute_result"
    }
   ],
   "source": [
    "one_way_normal(\"pale\",\"bake\")"
   ]
  },
  {
   "cell_type": "code",
   "execution_count": 136,
   "metadata": {},
   "outputs": [],
   "source": [
    "def one_way_dp(str1,str2):\n",
    "    matrix = [[0]*(len(str2)+1) for _ in range(len(str1)+1)]\n",
    "    for i in range(len(str1)+1):\n",
    "        matrix[i][0] = i\n",
    "    for i in range(len(str2)+1):\n",
    "        matrix[0][i] = i\n",
    "    for i in range(1,len(str1)+1):\n",
    "        for j in range(1,len(str2)+1):\n",
    "            match = matrix[i-1][j-1] if str1[i-1] == str2[j-1] else matrix[i-1][j-1]+1\n",
    "            insert = matrix[i-1][j] + 1\n",
    "            delete = matrix[i][j-1] + 1\n",
    "            matrix[i][j] = min(match,insert,delete)\n",
    "    return matrix[len(str1)][len(str2)] in [0,1]\n",
    "        "
   ]
  },
  {
   "cell_type": "code",
   "execution_count": 137,
   "metadata": {},
   "outputs": [
    {
     "data": {
      "text/plain": [
       "False"
      ]
     },
     "execution_count": 137,
     "metadata": {},
     "output_type": "execute_result"
    }
   ],
   "source": [
    "one_way_dp(\"pale\",\"bake\")"
   ]
  },
  {
   "cell_type": "code",
   "execution_count": 138,
   "metadata": {},
   "outputs": [
    {
     "data": {
      "text/plain": [
       "True"
      ]
     },
     "execution_count": 138,
     "metadata": {},
     "output_type": "execute_result"
    }
   ],
   "source": [
    "one_way_dp(\"pale\",\"ple\")"
   ]
  },
  {
   "cell_type": "code",
   "execution_count": 139,
   "metadata": {},
   "outputs": [
    {
     "data": {
      "text/plain": [
       "True"
      ]
     },
     "execution_count": 139,
     "metadata": {},
     "output_type": "execute_result"
    }
   ],
   "source": [
    "one_way_dp(\"aaa\",\"aac\")"
   ]
  },
  {
   "cell_type": "code",
   "execution_count": 141,
   "metadata": {},
   "outputs": [],
   "source": [
    "# Re-implementation of solution in the book\n",
    "# Version one: Modularization\n",
    "def check_remove(str1,str2):\n",
    "    p1 = 0\n",
    "    p2 = 0\n",
    "    # str1 is a bigger array\n",
    "    while (p2 < len(str2)):\n",
    "        if (str1[p1] != str1[p2]):\n",
    "            if p1 != p2:\n",
    "                return False\n",
    "            p1 += 1\n",
    "        else:\n",
    "            p1 += 1\n",
    "            p2 += 1\n",
    "    return True\n",
    "                \n",
    "def check_replace(str1,str2):\n",
    "    check = False\n",
    "    for i in range(len(str1)):\n",
    "        if str1[i] != str2[i]:\n",
    "            if check:\n",
    "                return False\n",
    "            check = True\n",
    "    return True\n",
    "        \n",
    "    \n",
    "def one_way_solution1(str1,str2):\n",
    "    if (len(str1) == len(str2)):\n",
    "        return check_replace(str1,str2)\n",
    "    elif(len(str1) - 1 == len(str2)):\n",
    "        return check_remove(str1,str2)\n",
    "    elif(len(str1) == len(str2) - 1):\n",
    "        return check_remove(str2,str1)\n",
    "    return False"
   ]
  },
  {
   "cell_type": "code",
   "execution_count": 142,
   "metadata": {},
   "outputs": [
    {
     "data": {
      "text/plain": [
       "True"
      ]
     },
     "execution_count": 142,
     "metadata": {},
     "output_type": "execute_result"
    }
   ],
   "source": [
    "one_way_solution1(\"aaa\",\"aac\")"
   ]
  },
  {
   "cell_type": "code",
   "execution_count": 143,
   "metadata": {},
   "outputs": [
    {
     "data": {
      "text/plain": [
       "True"
      ]
     },
     "execution_count": 143,
     "metadata": {},
     "output_type": "execute_result"
    }
   ],
   "source": [
    "one_way_solution1(\"pale\",\"ple\")"
   ]
  },
  {
   "cell_type": "code",
   "execution_count": 144,
   "metadata": {},
   "outputs": [
    {
     "data": {
      "text/plain": [
       "False"
      ]
     },
     "execution_count": 144,
     "metadata": {},
     "output_type": "execute_result"
    }
   ],
   "source": [
    "one_way_solution1(\"pale\",\"bake\")"
   ]
  },
  {
   "cell_type": "code",
   "execution_count": 149,
   "metadata": {},
   "outputs": [],
   "source": [
    "#version 2: wrapper\n",
    "def one_way_solution2(str1,str2):\n",
    "    if abs(len(str1) - len(str2) > 1):\n",
    "        return False\n",
    "    p1 = p2 = 0\n",
    "    longer = str1 if len(str1) > len(str2) else str2\n",
    "    shorter = str2 if len(str1) > len(str2) else str1\n",
    "    check = False\n",
    "    while(p1 < len(shorter)):\n",
    "        if longer[p2] != shorter[p1]:\n",
    "            if check:\n",
    "                return False\n",
    "            check = True\n",
    "            if len(shorter) == len(longer):\n",
    "                p1 += 1\n",
    "        else:\n",
    "            p1 += 1\n",
    "        p2 += 1\n",
    "    return True\n",
    "                \n",
    "        \n",
    "    "
   ]
  },
  {
   "cell_type": "code",
   "execution_count": 150,
   "metadata": {},
   "outputs": [
    {
     "data": {
      "text/plain": [
       "True"
      ]
     },
     "execution_count": 150,
     "metadata": {},
     "output_type": "execute_result"
    }
   ],
   "source": [
    "one_way_solution2(\"aaa\",\"aac\")"
   ]
  },
  {
   "cell_type": "code",
   "execution_count": 151,
   "metadata": {},
   "outputs": [
    {
     "data": {
      "text/plain": [
       "True"
      ]
     },
     "execution_count": 151,
     "metadata": {},
     "output_type": "execute_result"
    }
   ],
   "source": [
    "one_way_solution2(\"pale\",\"ple\")"
   ]
  },
  {
   "cell_type": "code",
   "execution_count": 152,
   "metadata": {},
   "outputs": [
    {
     "data": {
      "text/plain": [
       "False"
      ]
     },
     "execution_count": 152,
     "metadata": {},
     "output_type": "execute_result"
    }
   ],
   "source": [
    "one_way_solution2(\"pale\",\"bake\")"
   ]
  },
  {
   "cell_type": "markdown",
   "metadata": {},
   "source": [
    "## Tips:\n",
    "1. Removal and Insert are the same. Just need to switch order. Eg: ab a, insert b in the second is equal to delete b in the first.\n",
    "2. Replacement is only possible when lengths are equal.  \n",
    "3. The trick is to find shorter string and create two pointers that move accordingly."
   ]
  },
  {
   "cell_type": "markdown",
   "metadata": {},
   "source": [
    "## Problem with the book:\n",
    "The condition: ``` index2 < s2.length() && indexl < sl.length() ``` is not necessary in ```oneEditinsert```. \n",
    "\n",
    "*Proof*: By design, s1 is one char shorter than s2. We need to prove that if ```indexl < sl.length()```, then index2 must be within range. Without loss of generality, suppose two strings with abitrary length but with one char difference. s1 = xxxxxx....(X), s2 = xxxxxx...(XY). When s1 reaches its end, there is at most one mismatch. This means index2 is either the same as index1 or one unit beyond. If index1 == index2, both increments one. The condition ```indexl < sl.length()``` suffice, loop exits. If index2 > index1, in which index2 is the last index of s2, there are two possible cases, a match and mismatch. If it is a match, ```indexl < sl.length()``` suffice, loop exits, if not, ```indexl !=index2``` suffices, ```False``` is return. Therefore, the condition ```indexl < sl.length()``` is enough for the loop.\n",
    "\n",
    "The same applies to the second solution."
   ]
  },
  {
   "cell_type": "code",
   "execution_count": null,
   "metadata": {},
   "outputs": [],
   "source": []
  }
 ],
 "metadata": {
  "kernelspec": {
   "display_name": "Python 3",
   "language": "python",
   "name": "python3"
  },
  "language_info": {
   "codemirror_mode": {
    "name": "ipython",
    "version": 3
   },
   "file_extension": ".py",
   "mimetype": "text/x-python",
   "name": "python",
   "nbconvert_exporter": "python",
   "pygments_lexer": "ipython3",
   "version": "3.7.0"
  }
 },
 "nbformat": 4,
 "nbformat_minor": 2
}
