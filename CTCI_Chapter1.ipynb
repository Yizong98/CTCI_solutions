{
 "cells": [
  {
   "cell_type": "markdown",
   "metadata": {},
   "source": [
    "## 1.1 Is Unique: Implement an algorithm to determine if a string has all unique characters. What if you cannot use additional data structures?"
   ]
  },
  {
   "cell_type": "code",
   "execution_count": 3,
   "metadata": {},
   "outputs": [],
   "source": [
    "# Example: \"abcdefg\" -> True \"aacdr\" --> False \"ccccccc\" --> False \"1231bcdefg\" --> False\n",
    "def unique_hash(string):\n",
    "    table = dict()\n",
    "    for c in string:\n",
    "        if c in table:\n",
    "            return False\n",
    "        table[c] = 1\n",
    "    return True"
   ]
  },
  {
   "cell_type": "code",
   "execution_count": 6,
   "metadata": {},
   "outputs": [
    {
     "data": {
      "text/plain": [
       "False"
      ]
     },
     "execution_count": 6,
     "metadata": {},
     "output_type": "execute_result"
    }
   ],
   "source": [
    "unique_hash(\"1231bcdefg\")"
   ]
  },
  {
   "cell_type": "code",
   "execution_count": 14,
   "metadata": {},
   "outputs": [
    {
     "data": {
      "text/plain": [
       "True"
      ]
     },
     "execution_count": 14,
     "metadata": {},
     "output_type": "execute_result"
    }
   ],
   "source": [
    "unique_hash(\"abcdefg\")"
   ]
  },
  {
   "cell_type": "code",
   "execution_count": 12,
   "metadata": {},
   "outputs": [],
   "source": [
    "def unique_nospace(string):\n",
    "    for i in range(len(string)):\n",
    "        for j in range(i+1,len(string)):\n",
    "            if string[i] == string[j]:\n",
    "                return False\n",
    "    return True"
   ]
  },
  {
   "cell_type": "code",
   "execution_count": 13,
   "metadata": {},
   "outputs": [
    {
     "data": {
      "text/plain": [
       "True"
      ]
     },
     "execution_count": 13,
     "metadata": {},
     "output_type": "execute_result"
    }
   ],
   "source": [
    "unique_nospace(\"abcdefg\")"
   ]
  },
  {
   "cell_type": "markdown",
   "metadata": {},
   "source": [
    "## Tips:\n",
    "1. Ask about ASCII string(128) or a Unicode string. \n",
    "2. Assume 256 characters(for exteneded ASCII string) and clarifies. \n",
    "3. Can also use bitwise or."
   ]
  },
  {
   "cell_type": "markdown",
   "metadata": {},
   "source": [
    "## 1.2 Check Permutation: Given two strings, write a method to decide if one is a permutation of the other."
   ]
  },
  {
   "cell_type": "code",
   "execution_count": 20,
   "metadata": {},
   "outputs": [],
   "source": [
    "#Example (\"abaaaa\",\"abb\") --> False (\"abbc\",\"bbca\") --> True (\"adddddc\",\"cdddadd\") --> True\n",
    "def check_permutation(str1,str2):\n",
    "    if len(str1) != len(str2):\n",
    "        return False\n",
    "    # TWO PASS\n",
    "    dict1 = dict()\n",
    "    dict2 = dict()\n",
    "    for i in str1:\n",
    "        dict1[i] = dict1.get(i,0) + 1\n",
    "    for i in str2:\n",
    "        dict2[i] = dict2.get(i,0) + 1\n",
    "    return dict1 == dict2"
   ]
  },
  {
   "cell_type": "code",
   "execution_count": 21,
   "metadata": {},
   "outputs": [
    {
     "data": {
      "text/plain": [
       "False"
      ]
     },
     "execution_count": 21,
     "metadata": {},
     "output_type": "execute_result"
    }
   ],
   "source": [
    "check_permutation(\"abaaaa\",\"abb\")"
   ]
  },
  {
   "cell_type": "code",
   "execution_count": 22,
   "metadata": {},
   "outputs": [
    {
     "data": {
      "text/plain": [
       "True"
      ]
     },
     "execution_count": 22,
     "metadata": {},
     "output_type": "execute_result"
    }
   ],
   "source": [
    "check_permutation(\"abbc\",\"bbca\")"
   ]
  },
  {
   "cell_type": "markdown",
   "metadata": {},
   "source": [
    "## 1.3 URLify: Write a method to replace all spaces in a string with '%20'. You may assume that the string has sufficient space at the end to hold the additional characters,and that you are given the \"true\" length of the string. (Note: If implementing in Java,please use a character array so that you can perform this operation in place.)\n",
    "EXAMPLE\n",
    "Input: \"Mr John Smith \", 13 Output: \"Mr%20John%20Smith\""
   ]
  },
  {
   "cell_type": "code",
   "execution_count": 33,
   "metadata": {},
   "outputs": [],
   "source": [
    "import re\n",
    "def URLify(string1):\n",
    "    return re.sub(r\"\\s\",\"%20\",string1.strip())"
   ]
  },
  {
   "cell_type": "code",
   "execution_count": 34,
   "metadata": {},
   "outputs": [
    {
     "data": {
      "text/plain": [
       "'HAAPPY%20HOUR'"
      ]
     },
     "execution_count": 34,
     "metadata": {},
     "output_type": "execute_result"
    }
   ],
   "source": [
    "URLify(\"HAAPPY HOUR \")"
   ]
  },
  {
   "cell_type": "code",
   "execution_count": 66,
   "metadata": {},
   "outputs": [],
   "source": [
    "#Example: \"aas rr(sliding)   (tracker)\" --> \"aas%20rr\"\n",
    "#Walkthrough: \" aas%20rr\"\n",
    "def URLify_place(string1,true_len):\n",
    "    if len(string1) == true_len:\n",
    "        return string1\n",
    "    char_arr = list(string1)\n",
    "    tracker = len(char_arr) - 1\n",
    "    sliding = true_len - 1\n",
    "    # first pass\n",
    "    while(tracker >= 0):\n",
    "        if char_arr[sliding] == \" \":\n",
    "            # could be a function\n",
    "            char_arr[tracker] = \"0\"\n",
    "            tracker -= 1\n",
    "            char_arr[tracker] = \"2\"\n",
    "            tracker -= 1\n",
    "            char_arr[tracker] = \"%\"\n",
    "            tracker -= 1\n",
    "        else:\n",
    "            char_arr[tracker] = char_arr[sliding]\n",
    "            tracker -= 1\n",
    "        sliding -= 1\n",
    "    return \"\".join(char_arr)"
   ]
  },
  {
   "cell_type": "code",
   "execution_count": 67,
   "metadata": {},
   "outputs": [
    {
     "data": {
      "text/plain": [
       "'Mr%20John%20Smith'"
      ]
     },
     "execution_count": 67,
     "metadata": {},
     "output_type": "execute_result"
    }
   ],
   "source": [
    "URLify_place(\"Mr John Smith    \",13)"
   ]
  },
  {
   "cell_type": "code",
   "execution_count": null,
   "metadata": {},
   "outputs": [],
   "source": []
  }
 ],
 "metadata": {
  "kernelspec": {
   "display_name": "Python 3",
   "language": "python",
   "name": "python3"
  },
  "language_info": {
   "codemirror_mode": {
    "name": "ipython",
    "version": 3
   },
   "file_extension": ".py",
   "mimetype": "text/x-python",
   "name": "python",
   "nbconvert_exporter": "python",
   "pygments_lexer": "ipython3",
   "version": "3.7.0"
  }
 },
 "nbformat": 4,
 "nbformat_minor": 2
}
