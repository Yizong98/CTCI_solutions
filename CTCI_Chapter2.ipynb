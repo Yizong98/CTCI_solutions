{
 "cells": [
  {
   "cell_type": "markdown",
   "metadata": {},
   "source": [
    "## LinkedList\n",
    "1.check for the null pointer\n",
    "\n",
    "2.update the head or tail pointer as necessary.\n"
   ]
  },
  {
   "cell_type": "code",
   "execution_count": 1,
   "metadata": {},
   "outputs": [],
   "source": [
    "# Definition for singly-linked list.\n",
    "class ListNode:\n",
    "     def __init__(self, x):\n",
    "        self.val = x\n",
    "        self.next = None    "
   ]
  },
  {
   "cell_type": "markdown",
   "metadata": {},
   "source": [
    "## 2.1 Remove Dups: Write code to remove duplicates from an unsorted linked list.\n",
    "FOLLOW UP\n",
    "How would you solve this problem if a temporary buffer is not allowed?"
   ]
  },
  {
   "cell_type": "code",
   "execution_count": 61,
   "metadata": {},
   "outputs": [],
   "source": [
    "# Example 3-4-5-3-4-5 --> 3-4-5\n",
    "# O(n) for time O(n) for Space\n",
    "def remove_dup_withbuffer(link):\n",
    "    if not link:\n",
    "        return\n",
    "    checker_dict = {link.val:1}\n",
    "    curr = link\n",
    "    while curr.next:\n",
    "        if curr.next.val in checker_dict:\n",
    "            curr.next = curr.next.next\n",
    "        else:\n",
    "            checker_dict[curr.next.val] = 1\n",
    "            curr = curr.next\n",
    "    \n",
    "        \n",
    "            \n",
    "        \n",
    "            \n",
    "    "
   ]
  },
  {
   "cell_type": "code",
   "execution_count": 63,
   "metadata": {},
   "outputs": [],
   "source": [
    "remove_dup_withbuffer(test_link)"
   ]
  },
  {
   "cell_type": "code",
   "execution_count": 62,
   "metadata": {},
   "outputs": [
    {
     "name": "stdout",
     "output_type": "stream",
     "text": [
      "3\n",
      "4\n",
      "5\n",
      "3\n",
      "4\n",
      "5\n"
     ]
    }
   ],
   "source": [
    "test_link = ListNode(3)\n",
    "test_link.next = ListNode(4)\n",
    "test_link.next.next = ListNode(5)\n",
    "test_link.next.next.next = ListNode(3)\n",
    "test_link.next.next.next.next = ListNode(4)\n",
    "test_link.next.next.next.next.next = ListNode(5)\n",
    "\n",
    "dummy = test_link\n",
    "while dummy:\n",
    "    print(dummy.val)\n",
    "    dummy = dummy.next"
   ]
  },
  {
   "cell_type": "code",
   "execution_count": 64,
   "metadata": {},
   "outputs": [
    {
     "name": "stdout",
     "output_type": "stream",
     "text": [
      "3\n",
      "4\n",
      "5\n"
     ]
    }
   ],
   "source": [
    "dummy = test_link\n",
    "while dummy:\n",
    "    print(dummy.val)\n",
    "    dummy = dummy.next"
   ]
  },
  {
   "cell_type": "code",
   "execution_count": 58,
   "metadata": {},
   "outputs": [],
   "source": [
    "# O(n^2) for time O(1) for Space\n",
    "def remove_dup_inplace(link):\n",
    "    if link == None:\n",
    "        return\n",
    "    head = link\n",
    "    prev = link\n",
    "    while(head):\n",
    "        if head.next:\n",
    "            if head.next.val == prev.val:\n",
    "                head.next = head.next.next\n",
    "        head = head.next\n",
    "        if head is None:\n",
    "            if prev.next is None:\n",
    "                return\n",
    "            else:\n",
    "                head = prev.next\n",
    "                prev = prev.next\n",
    "# O(n^2) for time O(1) for Space\n",
    "def remove_dup_inplace_runner(link):\n",
    "    current = link\n",
    "    while(current):\n",
    "        runner = current\n",
    "        \"\"\"\n",
    "        Alternative\n",
    "        while(runner.next):\n",
    "            if runner.next.val == current.val:\n",
    "                runner.next = runner.next.next\n",
    "            else:\n",
    "                runner = runner.next\n",
    "                \n",
    "        \"\"\"\n",
    "        while(runner):\n",
    "            if runner.next and runner.next.val == current.val:\n",
    "                runner.next = runner.next.next\n",
    "            runner = runner.next\n",
    "        current = current.next\n",
    "        "
   ]
  },
  {
   "cell_type": "code",
   "execution_count": 59,
   "metadata": {},
   "outputs": [],
   "source": [
    "remove_dup_inplace_runner(test_link)"
   ]
  },
  {
   "cell_type": "code",
   "execution_count": 60,
   "metadata": {},
   "outputs": [
    {
     "name": "stdout",
     "output_type": "stream",
     "text": [
      "3\n",
      "4\n",
      "5\n"
     ]
    }
   ],
   "source": [
    "dummy = test_link\n",
    "while dummy:\n",
    "    print(dummy.val)\n",
    "    dummy = dummy.next"
   ]
  },
  {
   "cell_type": "code",
   "execution_count": null,
   "metadata": {},
   "outputs": [],
   "source": []
  },
  {
   "cell_type": "markdown",
   "metadata": {},
   "source": [
    "## 2.2 Return Kth to Last: Implement an algorithm to find the kth to last element of a singly linked list."
   ]
  },
  {
   "cell_type": "markdown",
   "metadata": {},
   "source": [
    "## 2.3 Delete Middle Node: Implement an algorithm to delete a node in the middle (i.e., any node but the first and last node, not necessarily the exact middle) of a singly linked list, given only access to that node.\n",
    "EXAMPLE\n",
    "lnput:the node c from the linked lista->b->c->d->e->f\n",
    "Result: nothing is returned, but the new linked list looks likea->b->d->e- >f"
   ]
  },
  {
   "cell_type": "markdown",
   "metadata": {},
   "source": [
    "## 2.4 Partition: Write code to partition a linked list around a value x, such that all nodes less than x come before all nodes greater than or equal to x. If x is contained within the list, the values of x only need to be after the elements less than x (see below). The partition element x can appear anywhere in the \"right partition\"; it does not need to appear between the left and right partitions.\n",
    "EXAMPLE\n",
    "Input: 3 -> 5 -> 8 -> 5 -> 10 -> 2 -> 1[partition=5] Output: 3 -> 1 -> 2 -> 10 -> 5 -> 5 -> 8"
   ]
  },
  {
   "cell_type": "markdown",
   "metadata": {},
   "source": [
    "## 2.5 Sum Lists: You have two numbers represented by a linked list, where each node contains a single digit.The digits are stored in reverse order, such that the 1 's digit is at the head of the list. Write a function that adds the two numbers and returns the sum as a linked list.\n",
    "EXAMPLE\n",
    "Input:(7-> 1 -> 6) + (5 -> 9 -> 2).Thatis,617 + 295. Output:2 -> 1 -> 9.Thatis,912.\n",
    "FOLLOW UP\n",
    "Suppose the digits are stored in forward order. Repeat the above problem. EXAMPLE\n",
    "lnput:(6 -> 1 -> 7) + (2 -> 9 -> 5).That is,617 + 295. Output:9 -> 1 -> 2.Thatis,912."
   ]
  },
  {
   "cell_type": "markdown",
   "metadata": {},
   "source": [
    "## 2.6 Palindrome: Implement a function to check if a linked list is a palindrome."
   ]
  },
  {
   "cell_type": "markdown",
   "metadata": {},
   "source": [
    "## 2.7 Intersection: Given two (singly) linked lists, determine if the two lists intersect. Return the inter­ secting node. Note that the intersection is defined based on reference, not value.That is, if the kth node of the first linked list is the exact same node (by reference) as the jth node of the second linked list, then they are intersecting."
   ]
  },
  {
   "cell_type": "markdown",
   "metadata": {},
   "source": [
    "## 2.8 Loop Detection: Given a circular linked list, implement an algorithm that returns the node at the beginning of the loop.\n",
    "DEFINITION\n",
    "Circular linked list: A (corrupt) linked list in which a node's next pointer points to an earlier node, so as to make a loop in the linked list.\n",
    "EXAMPLE\n",
    "Input: A -> B -> C -> D -> E -> C[thesameCasearlier]\n",
    "Output: C"
   ]
  },
  {
   "cell_type": "code",
   "execution_count": null,
   "metadata": {},
   "outputs": [],
   "source": []
  }
 ],
 "metadata": {
  "kernelspec": {
   "display_name": "Python 3",
   "language": "python",
   "name": "python3"
  },
  "language_info": {
   "codemirror_mode": {
    "name": "ipython",
    "version": 3
   },
   "file_extension": ".py",
   "mimetype": "text/x-python",
   "name": "python",
   "nbconvert_exporter": "python",
   "pygments_lexer": "ipython3",
   "version": "3.7.0"
  }
 },
 "nbformat": 4,
 "nbformat_minor": 2
}
