{
 "cells": [
  {
   "cell_type": "markdown",
   "metadata": {},
   "source": [
    "## LinkedList\n",
    "1.check for the null pointer\n",
    "\n",
    "2.update the head or tail pointer as necessary.\n"
   ]
  },
  {
   "cell_type": "code",
   "execution_count": 1,
   "metadata": {},
   "outputs": [],
   "source": [
    "# Definition for singly-linked list.\n",
    "class ListNode:\n",
    "     def __init__(self, x):\n",
    "        self.val = x\n",
    "        self.next = None    "
   ]
  },
  {
   "cell_type": "markdown",
   "metadata": {},
   "source": [
    "## 2.1 Remove Dups: Write code to remove duplicates from an unsorted linked list.\n",
    "FOLLOW UP\n",
    "How would you solve this problem if a temporary buffer is not allowed?"
   ]
  },
  {
   "cell_type": "code",
   "execution_count": 61,
   "metadata": {},
   "outputs": [],
   "source": [
    "# Example 3-4-5-3-4-5 --> 3-4-5\n",
    "# O(n) for time O(n) for Space\n",
    "def remove_dup_withbuffer(link):\n",
    "    if not link:\n",
    "        return\n",
    "    checker_dict = {link.val:1}\n",
    "    curr = link\n",
    "    while curr.next:\n",
    "        if curr.next.val in checker_dict:\n",
    "            curr.next = curr.next.next\n",
    "        else:\n",
    "            checker_dict[curr.next.val] = 1\n",
    "            curr = curr.next\n",
    "    \n",
    "        \n",
    "            \n",
    "        \n",
    "            \n",
    "    "
   ]
  },
  {
   "cell_type": "code",
   "execution_count": 63,
   "metadata": {},
   "outputs": [],
   "source": [
    "remove_dup_withbuffer(test_link)"
   ]
  },
  {
   "cell_type": "code",
   "execution_count": 62,
   "metadata": {},
   "outputs": [
    {
     "name": "stdout",
     "output_type": "stream",
     "text": [
      "3\n",
      "4\n",
      "5\n",
      "3\n",
      "4\n",
      "5\n"
     ]
    }
   ],
   "source": [
    "test_link = ListNode(3)\n",
    "test_link.next = ListNode(4)\n",
    "test_link.next.next = ListNode(5)\n",
    "test_link.next.next.next = ListNode(3)\n",
    "test_link.next.next.next.next = ListNode(4)\n",
    "test_link.next.next.next.next.next = ListNode(5)\n",
    "\n",
    "dummy = test_link\n",
    "while dummy:\n",
    "    print(dummy.val)\n",
    "    dummy = dummy.next"
   ]
  },
  {
   "cell_type": "code",
   "execution_count": 64,
   "metadata": {},
   "outputs": [
    {
     "name": "stdout",
     "output_type": "stream",
     "text": [
      "3\n",
      "4\n",
      "5\n"
     ]
    }
   ],
   "source": [
    "dummy = test_link\n",
    "while dummy:\n",
    "    print(dummy.val)\n",
    "    dummy = dummy.next"
   ]
  },
  {
   "cell_type": "code",
   "execution_count": 58,
   "metadata": {},
   "outputs": [],
   "source": [
    "# O(n^2) for time O(1) for Space\n",
    "def remove_dup_inplace(link):\n",
    "    if link == None:\n",
    "        return\n",
    "    head = link\n",
    "    prev = link\n",
    "    while(head):\n",
    "        if head.next:\n",
    "            if head.next.val == prev.val:\n",
    "                head.next = head.next.next\n",
    "        head = head.next\n",
    "        if head is None:\n",
    "            if prev.next is None:\n",
    "                return\n",
    "            else:\n",
    "                head = prev.next\n",
    "                prev = prev.next\n",
    "# O(n^2) for time O(1) for Space\n",
    "def remove_dup_inplace_runner(link):\n",
    "    current = link\n",
    "    while(current):\n",
    "        runner = current\n",
    "        \"\"\"\n",
    "        Alternative\n",
    "        while(runner.next):\n",
    "            if runner.next.val == current.val:\n",
    "                runner.next = runner.next.next\n",
    "            else:\n",
    "                runner = runner.next\n",
    "                \n",
    "        \"\"\"\n",
    "        while(runner):\n",
    "            if runner.next and runner.next.val == current.val:\n",
    "                runner.next = runner.next.next\n",
    "            runner = runner.next\n",
    "        current = current.next\n",
    "        "
   ]
  },
  {
   "cell_type": "code",
   "execution_count": 59,
   "metadata": {},
   "outputs": [],
   "source": [
    "remove_dup_inplace_runner(test_link)"
   ]
  },
  {
   "cell_type": "code",
   "execution_count": 60,
   "metadata": {},
   "outputs": [
    {
     "name": "stdout",
     "output_type": "stream",
     "text": [
      "3\n",
      "4\n",
      "5\n"
     ]
    }
   ],
   "source": [
    "dummy = test_link\n",
    "while dummy:\n",
    "    print(dummy.val)\n",
    "    dummy = dummy.next"
   ]
  },
  {
   "cell_type": "markdown",
   "metadata": {},
   "source": [
    "## Tips:\n",
    "1. The whole thing boils down to the fundamental rules of Space & Time trade off and Hash Table Optimization."
   ]
  },
  {
   "cell_type": "markdown",
   "metadata": {},
   "source": [
    "## 2.2 Return Kth to Last: Implement an algorithm to find the kth to last element of a singly linked list."
   ]
  },
  {
   "cell_type": "code",
   "execution_count": 70,
   "metadata": {},
   "outputs": [],
   "source": [
    "# Example: 1->2->3, 2, result: 2 7->8->9->10->2->3->5->9 5th, result: 10, 10th, result: None \n",
    "def kth_runner(link,k):\n",
    "    if k < 1 or not link:\n",
    "        return None\n",
    "    fast = slow = link\n",
    "    for i in range(k-1):\n",
    "        fast = fast.next\n",
    "        if not fast:\n",
    "            return \"NON EXISTENT\"\n",
    "    while(fast.next):\n",
    "        slow = slow.next\n",
    "        fast = fast.next\n",
    "    return slow.val\n",
    "    "
   ]
  },
  {
   "cell_type": "code",
   "execution_count": 75,
   "metadata": {},
   "outputs": [],
   "source": [
    "test_link2 = ListNode(7)\n",
    "test_link2.next = ListNode(8)\n",
    "test_link2.next.next = ListNode(9)\n",
    "test_link2.next.next.next = ListNode(10)\n",
    "test_link2.next.next.next.next = ListNode(2)\n",
    "test_link2.next.next.next.next.next = ListNode(3)\n",
    "test_link2.next.next.next.next.next.next  = ListNode(5)\n",
    "test_link2.next.next.next.next.next.next.next = ListNode(9)"
   ]
  },
  {
   "cell_type": "code",
   "execution_count": 77,
   "metadata": {},
   "outputs": [
    {
     "data": {
      "text/plain": [
       "10"
      ]
     },
     "execution_count": 77,
     "metadata": {},
     "output_type": "execute_result"
    }
   ],
   "source": [
    "kth_runner(test_link2,5)"
   ]
  },
  {
   "cell_type": "code",
   "execution_count": 76,
   "metadata": {},
   "outputs": [
    {
     "data": {
      "text/plain": [
       "'NON EXISTENT'"
      ]
     },
     "execution_count": 76,
     "metadata": {},
     "output_type": "execute_result"
    }
   ],
   "source": [
    "kth_runner(test_link2,10)"
   ]
  },
  {
   "cell_type": "code",
   "execution_count": 71,
   "metadata": {},
   "outputs": [
    {
     "data": {
      "text/plain": [
       "5"
      ]
     },
     "execution_count": 71,
     "metadata": {},
     "output_type": "execute_result"
    }
   ],
   "source": [
    "kth_runner(test_link,1)"
   ]
  },
  {
   "cell_type": "code",
   "execution_count": 72,
   "metadata": {},
   "outputs": [
    {
     "data": {
      "text/plain": [
       "4"
      ]
     },
     "execution_count": 72,
     "metadata": {},
     "output_type": "execute_result"
    }
   ],
   "source": [
    "kth_runner(test_link,2)"
   ]
  },
  {
   "cell_type": "code",
   "execution_count": 73,
   "metadata": {},
   "outputs": [
    {
     "data": {
      "text/plain": [
       "3"
      ]
     },
     "execution_count": 73,
     "metadata": {},
     "output_type": "execute_result"
    }
   ],
   "source": [
    "kth_runner(test_link,3)"
   ]
  },
  {
   "cell_type": "code",
   "execution_count": 74,
   "metadata": {},
   "outputs": [
    {
     "data": {
      "text/plain": [
       "'NON EXISTENT'"
      ]
     },
     "execution_count": 74,
     "metadata": {},
     "output_type": "execute_result"
    }
   ],
   "source": [
    "kth_runner(test_link,5)"
   ]
  },
  {
   "cell_type": "markdown",
   "metadata": {},
   "source": [
    "## Tips:\n",
    "1. Runner Approach conquers all."
   ]
  },
  {
   "cell_type": "markdown",
   "metadata": {},
   "source": [
    "## 2.3 Delete Middle Node: Implement an algorithm to delete a node in the middle (i.e., any node but the first and last node, not necessarily the exact middle) of a singly linked list, given only access to that node.\n",
    "EXAMPLE\n",
    "lnput:the node c from the linked lista->b->c->d->e->f\n",
    "Result: nothing is returned, but the new linked list looks likea->b->d->e- >f"
   ]
  },
  {
   "cell_type": "code",
   "execution_count": 85,
   "metadata": {},
   "outputs": [],
   "source": [
    "#Example: a->b->c result: a->c a->b->c->d result: a->c->d\n",
    "#When given the head\n",
    "def delete_mid(link):\n",
    "    if not link:\n",
    "        return None\n",
    "    prev = None\n",
    "    fast = slow = link\n",
    "    while(fast.next and fast.next.next):\n",
    "        prev = slow\n",
    "        slow = slow.next\n",
    "        fast = fast.next.next\n",
    "    #delete\n",
    "    if prev:\n",
    "        prev.next = slow.next"
   ]
  },
  {
   "cell_type": "code",
   "execution_count": 105,
   "metadata": {},
   "outputs": [],
   "source": [
    "test_link1 = ListNode(\"a\")\n",
    "test_link1.next = ListNode(\"b\")\n",
    "test_link1.next.next = ListNode(\"c\")\n",
    "test_link1.next.next.next = ListNode(\"d\")\n",
    "test_link1.next.next.next.next = ListNode(\"e\")\n",
    "test_link1.next.next.next.next.next = ListNode(\"f\")"
   ]
  },
  {
   "cell_type": "code",
   "execution_count": 90,
   "metadata": {},
   "outputs": [
    {
     "name": "stdout",
     "output_type": "stream",
     "text": [
      "a\n",
      "b\n",
      "d\n",
      "e\n",
      "f\n"
     ]
    }
   ],
   "source": [
    "delete_mid(test_link1)\n",
    "dummy = test_link1\n",
    "while dummy:\n",
    "    print(dummy.val)\n",
    "    dummy = dummy.next"
   ]
  },
  {
   "cell_type": "code",
   "execution_count": 86,
   "metadata": {},
   "outputs": [],
   "source": [
    "test_link2 = ListNode(7)\n",
    "test_link2.next = ListNode(8)\n",
    "test_link2.next.next = ListNode(9)\n",
    "test_link2.next.next.next = ListNode(10)\n",
    "test_link2.next.next.next.next = ListNode(2)\n",
    "test_link2.next.next.next.next.next = ListNode(3)\n",
    "test_link2.next.next.next.next.next.next  = ListNode(5)\n",
    "test_link2.next.next.next.next.next.next.next = ListNode(9)"
   ]
  },
  {
   "cell_type": "code",
   "execution_count": 87,
   "metadata": {},
   "outputs": [],
   "source": [
    "delete_mid(test_link2)"
   ]
  },
  {
   "cell_type": "code",
   "execution_count": 88,
   "metadata": {},
   "outputs": [
    {
     "name": "stdout",
     "output_type": "stream",
     "text": [
      "7\n",
      "8\n",
      "9\n",
      "2\n",
      "3\n",
      "5\n",
      "9\n"
     ]
    }
   ],
   "source": [
    "dummy = test_link2\n",
    "while dummy:\n",
    "    print(dummy.val)\n",
    "    dummy = dummy.next"
   ]
  },
  {
   "cell_type": "code",
   "execution_count": 106,
   "metadata": {},
   "outputs": [],
   "source": [
    "#Example: a->b->c result: a->c a->b->c->d result: a->c->d\n",
    "#When given only the middle node\n",
    "#O(1)\n",
    "def delete_mid_correct(middle):\n",
    "    # Assume the node is neither first node or last node\n",
    "    if not middle or not middle.next:\n",
    "        return None\n",
    "    middle.val =  middle.next.val\n",
    "    middle.next = middle.next.next"
   ]
  },
  {
   "cell_type": "code",
   "execution_count": 107,
   "metadata": {},
   "outputs": [
    {
     "name": "stdout",
     "output_type": "stream",
     "text": [
      "a\n",
      "b\n",
      "d\n",
      "e\n",
      "f\n"
     ]
    }
   ],
   "source": [
    "delete_mid_correct(test_link1.next.next)\n",
    "dummy = test_link1\n",
    "while dummy:\n",
    "    print(dummy.val)\n",
    "    dummy = dummy.next"
   ]
  },
  {
   "cell_type": "markdown",
   "metadata": {},
   "source": [
    "## Tips:\n",
    "1. Just by swapping we can throw the need of previous nodes away."
   ]
  },
  {
   "cell_type": "markdown",
   "metadata": {},
   "source": [
    "## 2.4 Partition: Write code to partition a linked list around a value x, such that all nodes less than x come before all nodes greater than or equal to x. If x is contained within the list, the values of x only need to be after the elements less than x (see below). The partition element x can appear anywhere in the \"right partition\"; it does not need to appear between the left and right partitions.\n",
    "EXAMPLE\n",
    "Input: 3 -> 5 -> 8 -> 5 -> 10 -> 2 -> 1[partition=5] Output: 3 -> 1 -> 2 -> 10 -> 5 -> 5 -> 8"
   ]
  },
  {
   "cell_type": "code",
   "execution_count": 116,
   "metadata": {},
   "outputs": [],
   "source": [
    "# Example: 7 -> 3 -> 4 -> 2 -> 9 -> 15, partition 16-> doesnt change; partition 6: 3->4->2->7->6->9->15\n",
    "# 3 4 2 7 9 15\n",
    "def link_partition(link,val):\n",
    "    prev = None\n",
    "    runner = link\n",
    "    equal = False\n",
    "    while(runner):\n",
    "        if runner.val >= val:\n",
    "            if not prev:\n",
    "                prev = runner\n",
    "            if runner.val == val:\n",
    "                equal = True\n",
    "        else:\n",
    "            if prev:\n",
    "                prev.val, runner.val = runner.val,prev.val\n",
    "                # Move on to the next insertion position\n",
    "                prev = prev.next\n",
    "        runner = runner.next\n",
    "    if not equal:\n",
    "        temp = prev.next\n",
    "        prev.next = ListNode(val)\n",
    "        prev.next.next = temp"
   ]
  },
  {
   "cell_type": "code",
   "execution_count": 117,
   "metadata": {},
   "outputs": [],
   "source": [
    "test_link1 = ListNode(7)\n",
    "test_link1.next = ListNode(3)\n",
    "test_link1.next.next = ListNode(4)\n",
    "test_link1.next.next.next = ListNode(2)\n",
    "test_link1.next.next.next.next = ListNode(9)\n",
    "test_link1.next.next.next.next.next = ListNode(15)"
   ]
  },
  {
   "cell_type": "code",
   "execution_count": 118,
   "metadata": {},
   "outputs": [],
   "source": [
    "link_partition(test_link1,6)"
   ]
  },
  {
   "cell_type": "code",
   "execution_count": 119,
   "metadata": {},
   "outputs": [
    {
     "name": "stdout",
     "output_type": "stream",
     "text": [
      "3\n",
      "4\n",
      "2\n",
      "7\n",
      "6\n",
      "9\n",
      "15\n"
     ]
    }
   ],
   "source": [
    "dummy = test_link1\n",
    "while dummy:\n",
    "    print(dummy.val)\n",
    "    dummy = dummy.next"
   ]
  },
  {
   "cell_type": "code",
   "execution_count": 278,
   "metadata": {},
   "outputs": [],
   "source": [
    "test_link2 = ListNode(7)\n",
    "test_link2.next = ListNode(5)\n",
    "test_link2.next.next = ListNode(8)\n",
    "test_link2.next.next.next = ListNode(5)\n",
    "test_link2.next.next.next.next = ListNode(10)\n",
    "test_link2.next.next.next.next.next = ListNode(2)\n",
    "test_link2.next.next.next.next.next.next = ListNode(1)"
   ]
  },
  {
   "cell_type": "code",
   "execution_count": 275,
   "metadata": {},
   "outputs": [],
   "source": [
    "link_partition(test_link2,5)"
   ]
  },
  {
   "cell_type": "code",
   "execution_count": 276,
   "metadata": {},
   "outputs": [
    {
     "name": "stdout",
     "output_type": "stream",
     "text": [
      "2\n",
      "1\n",
      "8\n",
      "5\n",
      "10\n",
      "7\n",
      "5\n"
     ]
    }
   ],
   "source": [
    "dummy = test_link2\n",
    "while dummy:\n",
    "    print(dummy.val)\n",
    "    dummy = dummy.next"
   ]
  },
  {
   "cell_type": "code",
   "execution_count": 271,
   "metadata": {},
   "outputs": [],
   "source": [
    "def link_partition_order(link,val):\n",
    "    before_start = None\n",
    "    before_end = None\n",
    "    after_start = None\n",
    "    after_end = None\n",
    "    curr = link\n",
    "    while (curr):\n",
    "        next_item = curr.next\n",
    "        curr.next = None\n",
    "        if val > curr.val:\n",
    "            if not before_start:\n",
    "                before_start = curr\n",
    "                before_end = curr\n",
    "            else:\n",
    "                before_end.next = curr\n",
    "                before_end = before_end.next\n",
    "        else:\n",
    "            if not after_start:\n",
    "                after_start = curr\n",
    "                after_end = curr\n",
    "            else:\n",
    "                after_end.next = curr\n",
    "                after_end = after_end.next\n",
    "        curr = next_item\n",
    "    if not before_start:\n",
    "        return after_start\n",
    "    before_end.next = after_start\n",
    "    return before_start"
   ]
  },
  {
   "cell_type": "code",
   "execution_count": 273,
   "metadata": {},
   "outputs": [
    {
     "name": "stdout",
     "output_type": "stream",
     "text": [
      "2\n",
      "1\n",
      "7\n",
      "5\n",
      "8\n",
      "5\n",
      "10\n"
     ]
    }
   ],
   "source": [
    "result = link_partition_order(test_link2,5)\n",
    "dummy = result\n",
    "while dummy:\n",
    "    print(dummy.val)\n",
    "    dummy = dummy.next"
   ]
  },
  {
   "cell_type": "code",
   "execution_count": 277,
   "metadata": {},
   "outputs": [],
   "source": [
    "def link_partition_cleaner(link,val):\n",
    "    curr = head = tail = link\n",
    "    while(curr):\n",
    "        nextNode = curr.next\n",
    "        if curr.val < val:\n",
    "            curr.next = head\n",
    "            head = curr\n",
    "        else:\n",
    "            tail.next = curr\n",
    "            tail = curr\n",
    "        curr = nextNode\n",
    "    tail.next = None\n",
    "    return head"
   ]
  },
  {
   "cell_type": "code",
   "execution_count": 279,
   "metadata": {},
   "outputs": [
    {
     "name": "stdout",
     "output_type": "stream",
     "text": [
      "1\n",
      "2\n",
      "7\n",
      "5\n",
      "8\n",
      "5\n",
      "10\n"
     ]
    }
   ],
   "source": [
    "result = link_partition_cleaner(test_link2,5)\n",
    "dummy = result\n",
    "while dummy:\n",
    "    print(dummy.val)\n",
    "    dummy = dummy.next"
   ]
  },
  {
   "cell_type": "markdown",
   "metadata": {},
   "source": [
    "## Tips:\n",
    "Fundamentals of any LinkedList Tricks:\n",
    "1. Swap Values, update insertion pointer\n",
    "2. Insert at tails\n",
    "3. Insert at head\n",
    "4. Use Dummy node"
   ]
  },
  {
   "cell_type": "markdown",
   "metadata": {},
   "source": [
    "## 2.5 Sum Lists: You have two numbers represented by a linked list, where each node contains a single digit.The digits are stored in reverse order, such that the 1 st digit is at the head of the list. Write a function that adds the two numbers and returns the sum as a linked list.\n",
    "EXAMPLE\n",
    "Input:(7-> 1 -> 6) + (5 -> 9 -> 2).Thatis,617 + 295. Output:2 -> 1 -> 9.Thatis,912.\n",
    "FOLLOW UP\n",
    "Suppose the digits are stored in forward order. Repeat the above problem. EXAMPLE\n",
    "lnput:(6 -> 1 -> 7) + (2 -> 9 -> 5).That is,617 + 295. Output:9 -> 1 -> 2.Thatis,912."
   ]
  },
  {
   "cell_type": "code",
   "execution_count": 302,
   "metadata": {},
   "outputs": [],
   "source": [
    "# First Question\n",
    "# Example: 123 123 --> 321 + 321 --> 2->4->6 129 211 --> 921 + 112 --> 3->3->0->1\n",
    "# O(n)\n",
    "def sum_list_backward(link1,link2):\n",
    "    carry = 0\n",
    "    curr = sum_p = ListNode(-1)\n",
    "    while(link1 or link2):\n",
    "        digit1 = link1.val if link1 else 0\n",
    "        digit2 = link2.val if link2 else 0\n",
    "        summation = digit1 + digit2 + carry\n",
    "        remain = summation % 10\n",
    "        curr.next = ListNode(remain)\n",
    "        carry = summation // 10\n",
    "        link1 = link1.next if link1 else link1\n",
    "        link2 = link2.next if link2 else link2\n",
    "        curr = curr.next\n",
    "    if carry:\n",
    "        curr.next = ListNode(1)\n",
    "    return sum_p.next"
   ]
  },
  {
   "cell_type": "code",
   "execution_count": 303,
   "metadata": {},
   "outputs": [
    {
     "name": "stdout",
     "output_type": "stream",
     "text": [
      "3\n",
      "3\n",
      "0\n",
      "1\n"
     ]
    }
   ],
   "source": [
    "test_link1 = ListNode(1)\n",
    "test_link1.next = ListNode(2)\n",
    "test_link1.next.next = ListNode(9)\n",
    "test_link2 = ListNode(2)\n",
    "test_link2.next = ListNode(1)\n",
    "test_link2.next.next = ListNode(1)\n",
    "result = sum_list_backward(test_link1,test_link2)\n",
    "dummy = result\n",
    "while dummy:\n",
    "    print(dummy.val)\n",
    "    dummy = dummy.next"
   ]
  },
  {
   "cell_type": "code",
   "execution_count": 304,
   "metadata": {},
   "outputs": [
    {
     "name": "stdout",
     "output_type": "stream",
     "text": [
      "8\n",
      "9\n",
      "1\n"
     ]
    }
   ],
   "source": [
    "test_link1 = ListNode(9)\n",
    "test_link1.next = ListNode(9)\n",
    "test_link2 = ListNode(9)\n",
    "test_link2.next = ListNode(9)\n",
    "result = sum_list_backward(test_link1,test_link2)\n",
    "dummy = result\n",
    "while dummy:\n",
    "    print(dummy.val)\n",
    "    dummy = dummy.next"
   ]
  },
  {
   "cell_type": "code",
   "execution_count": 306,
   "metadata": {},
   "outputs": [
    {
     "name": "stdout",
     "output_type": "stream",
     "text": [
      "0\n",
      "1\n",
      "0\n",
      "1\n"
     ]
    }
   ],
   "source": [
    "test_link1 = ListNode(9)\n",
    "test_link1.next = ListNode(9)\n",
    "test_link1.next.next = ListNode(9)\n",
    "test_link2 = ListNode(1)\n",
    "test_link2.next = ListNode(1)\n",
    "result = sum_list_backward(test_link1,test_link2)\n",
    "dummy = result\n",
    "while dummy:\n",
    "    print(dummy.val)\n",
    "    dummy = dummy.next"
   ]
  },
  {
   "cell_type": "code",
   "execution_count": 307,
   "metadata": {},
   "outputs": [
    {
     "name": "stdout",
     "output_type": "stream",
     "text": [
      "2\n",
      "1\n",
      "9\n"
     ]
    }
   ],
   "source": [
    "test_link1 = ListNode(7)\n",
    "test_link1.next = ListNode(1)\n",
    "test_link1.next.next = ListNode(6)\n",
    "test_link2 = ListNode(5)\n",
    "test_link2.next = ListNode(9)\n",
    "test_link2.next.next = ListNode(2)\n",
    "result = sum_list_backward(test_link1,test_link2)\n",
    "dummy = result\n",
    "while dummy:\n",
    "    print(dummy.val)\n",
    "    dummy = dummy.next"
   ]
  },
  {
   "cell_type": "code",
   "execution_count": 312,
   "metadata": {},
   "outputs": [],
   "source": [
    "# Follow Up\n",
    "# O(n)\n",
    "def reverse(ll):\n",
    "    reverse = None\n",
    "    while ll:\n",
    "        NextNode = ll.next\n",
    "        ll.next = reverse\n",
    "        reverse = ll\n",
    "        ll = NextNode\n",
    "    return reverse\n",
    "def sum_list_forward(link1,link2):\n",
    "    reverse1, reverse2 = reverse(link1), reverse(link2)\n",
    "    result = reverse(sum_list_backward(reverse1,reverse2))\n",
    "    return result"
   ]
  },
  {
   "cell_type": "code",
   "execution_count": 313,
   "metadata": {},
   "outputs": [
    {
     "name": "stdout",
     "output_type": "stream",
     "text": [
      "9\n",
      "1\n",
      "2\n"
     ]
    }
   ],
   "source": [
    "test_link1 = ListNode(6)\n",
    "test_link1.next = ListNode(1)\n",
    "test_link1.next.next = ListNode(7)\n",
    "test_link2 = ListNode(2)\n",
    "test_link2.next = ListNode(9)\n",
    "test_link2.next.next = ListNode(5)\n",
    "result = sum_list_forward(test_link1,test_link2)\n",
    "dummy = result\n",
    "while dummy:\n",
    "    print(dummy.val)\n",
    "    dummy = dummy.next"
   ]
  },
  {
   "cell_type": "code",
   "execution_count": 314,
   "metadata": {},
   "outputs": [
    {
     "name": "stdout",
     "output_type": "stream",
     "text": [
      "2\n",
      "4\n",
      "6\n"
     ]
    }
   ],
   "source": [
    "test_link1 = ListNode(1)\n",
    "test_link1.next = ListNode(2)\n",
    "test_link1.next.next = ListNode(3)\n",
    "test_link2 = ListNode(1)\n",
    "test_link2.next = ListNode(2)\n",
    "test_link2.next.next = ListNode(3)\n",
    "result = sum_list_forward(test_link1,test_link2)\n",
    "dummy = result\n",
    "while dummy:\n",
    "    print(dummy.val)\n",
    "    dummy = dummy.next"
   ]
  },
  {
   "cell_type": "markdown",
   "metadata": {},
   "source": [
    "## Tips:\n",
    "1. When you reverse Linkedlist, you don't need to initialize to a node. Just stay None.\n",
    "2. Can also use recursion, but no need to reinvent the wheel. The solution is on CTCI."
   ]
  },
  {
   "cell_type": "markdown",
   "metadata": {},
   "source": [
    "## 2.6 Palindrome: Implement a function to check if a linked list is a palindrome."
   ]
  },
  {
   "cell_type": "code",
   "execution_count": 280,
   "metadata": {},
   "outputs": [],
   "source": [
    "# Example: a-b-c-b-a True a-b-b-a True a-b-c-d-a False a-a True a-c False\n",
    "def palindrome_checker(link):\n",
    "    if not link:\n",
    "        return True\n",
    "    tail = None\n",
    "    #middle\n",
    "    faster = slow = link\n",
    "    while(faster.next and faster.next.next):\n",
    "        faster = faster.next.next\n",
    "        slow = slow.next\n",
    "    slow = slow.next\n",
    "    # 3 2 1\n",
    "    while (slow):\n",
    "        temp = slow.next\n",
    "        slow.next = tail\n",
    "        tail = slow\n",
    "        slow = temp\n",
    "    runner = link\n",
    "    while(tail):\n",
    "        if tail.val != runner.val:\n",
    "            return False\n",
    "        tail = tail.next; runner = runner.next\n",
    "    return True\n",
    "        \n",
    "        "
   ]
  },
  {
   "cell_type": "code",
   "execution_count": 287,
   "metadata": {},
   "outputs": [
    {
     "data": {
      "text/plain": [
       "True"
      ]
     },
     "execution_count": 287,
     "metadata": {},
     "output_type": "execute_result"
    }
   ],
   "source": [
    "test_link1 = ListNode(\"a\")\n",
    "palindrome_checker(test_link1)"
   ]
  },
  {
   "cell_type": "code",
   "execution_count": 282,
   "metadata": {},
   "outputs": [
    {
     "data": {
      "text/plain": [
       "False"
      ]
     },
     "execution_count": 282,
     "metadata": {},
     "output_type": "execute_result"
    }
   ],
   "source": [
    "test_link1 = ListNode(\"a\")\n",
    "test_link1.next = ListNode(\"c\")\n",
    "palindrome_checker(test_link1)"
   ]
  },
  {
   "cell_type": "code",
   "execution_count": 281,
   "metadata": {},
   "outputs": [
    {
     "data": {
      "text/plain": [
       "True"
      ]
     },
     "execution_count": 281,
     "metadata": {},
     "output_type": "execute_result"
    }
   ],
   "source": [
    "test_link2 = ListNode(\"a\")\n",
    "test_link2.next = ListNode(\"a\")\n",
    "palindrome_checker(test_link2)"
   ]
  },
  {
   "cell_type": "code",
   "execution_count": 283,
   "metadata": {},
   "outputs": [
    {
     "data": {
      "text/plain": [
       "True"
      ]
     },
     "execution_count": 283,
     "metadata": {},
     "output_type": "execute_result"
    }
   ],
   "source": [
    "test_link3 = ListNode(\"a\")\n",
    "test_link3.next = ListNode(\"b\")\n",
    "test_link3.next.next = ListNode(\"c\")\n",
    "test_link3.next.next.next = ListNode(\"b\")\n",
    "test_link3.next.next.next.next = ListNode(\"a\")\n",
    "palindrome_checker(test_link3)"
   ]
  },
  {
   "cell_type": "code",
   "execution_count": 284,
   "metadata": {},
   "outputs": [
    {
     "data": {
      "text/plain": [
       "True"
      ]
     },
     "execution_count": 284,
     "metadata": {},
     "output_type": "execute_result"
    }
   ],
   "source": [
    "test_link4 = ListNode(\"a\")\n",
    "test_link4.next = ListNode(\"b\")\n",
    "test_link4.next.next = ListNode(\"b\")\n",
    "test_link4.next.next.next = ListNode(\"a\")\n",
    "palindrome_checker(test_link4)"
   ]
  },
  {
   "cell_type": "code",
   "execution_count": 286,
   "metadata": {},
   "outputs": [
    {
     "data": {
      "text/plain": [
       "False"
      ]
     },
     "execution_count": 286,
     "metadata": {},
     "output_type": "execute_result"
    }
   ],
   "source": [
    "test_link5 = ListNode(\"a\")\n",
    "test_link5.next = ListNode(\"b\")\n",
    "test_link5.next.next = ListNode(\"c\")\n",
    "test_link5.next.next.next = ListNode(\"d\")\n",
    "test_link5.next.next.next.next = ListNode(\"a\")\n",
    "palindrome_checker(test_link5)"
   ]
  },
  {
   "cell_type": "markdown",
   "metadata": {},
   "source": [
    "## Tips\n",
    "1. Reverse All and Compare\n",
    "2. When you are not sure about the size of the LL, runner technique is your best friend.\n",
    "3. Think about using Stack and pop in Palindrome problem."
   ]
  },
  {
   "cell_type": "markdown",
   "metadata": {},
   "source": [
    "## 2.7 Intersection: Given two (singly) linked lists, determine if the two lists intersect. Return the inter­ secting node. Note that the intersection is defined based on reference, not value.That is, if the kth node of the first linked list is the exact same node (by reference) as the jth node of the second linked list, then they are intersecting."
   ]
  },
  {
   "cell_type": "code",
   "execution_count": 327,
   "metadata": {},
   "outputs": [],
   "source": [
    "# Example: l1: 2 - 3 - 3 l2: 3 - 3 - 3 could be True or False\n",
    "# Brute Force would be O(nm), nested loop\n",
    "# l1: A - B - C l2: E - C - D True\n",
    "# Space O(n+m), Time O(n+m)\n",
    "def intersection_check(l1,l2):\n",
    "    if not l1 or not l2:\n",
    "        return None\n",
    "    # traverse l1 to end and add l2 to tail\n",
    "    curr1 = l1\n",
    "    while curr1.next:\n",
    "        curr1 = curr1.next\n",
    "    curr1.next = l2\n",
    "    visited = set()\n",
    "    curr1 = l1\n",
    "    while curr1:\n",
    "        if curr1 in visited:\n",
    "            return curr1\n",
    "        visited.add(curr1)\n",
    "        curr1 = curr1.next\n",
    "    return None\n",
    "    \n",
    "    "
   ]
  },
  {
   "cell_type": "code",
   "execution_count": 328,
   "metadata": {},
   "outputs": [],
   "source": [
    "test_link1 = ListNode(\"a\")\n",
    "test_link1.next = ListNode(\"c\")\n",
    "test_link2 = ListNode(\"a\")\n",
    "test_link2.next = ListNode(\"a\")\n",
    "#expect None\n",
    "intersection_check(test_link1,test_link2)"
   ]
  },
  {
   "cell_type": "code",
   "execution_count": 333,
   "metadata": {},
   "outputs": [
    {
     "data": {
      "text/plain": [
       "'a'"
      ]
     },
     "execution_count": 333,
     "metadata": {},
     "output_type": "execute_result"
    }
   ],
   "source": [
    "intersection = ListNode(\"a\")\n",
    "test_link1 = intersection\n",
    "test_link1.next = ListNode(\"c\")\n",
    "test_link2 = ListNode(\"a\")\n",
    "test_link2.next = intersection\n",
    "#expect a\n",
    "intersection_check(test_link1,test_link2).val"
   ]
  },
  {
   "cell_type": "code",
   "execution_count": 351,
   "metadata": {},
   "outputs": [],
   "source": [
    "def intersection_constant_space(l1,l2):\n",
    "    # First Passes\n",
    "    cnt1 = cnt2 = 0\n",
    "    curr1 = l1; curr2 = l2\n",
    "    while curr1.next:\n",
    "        curr1 = curr1.next\n",
    "        cnt1 += 1\n",
    "    while curr2.next:\n",
    "        curr2 = curr2.next\n",
    "        cnt2 += 1\n",
    "    # first check\n",
    "    if curr1 != curr2:\n",
    "        return None\n",
    "    bigger = l1 if cnt1 > cnt2 else l2\n",
    "    smaller = l2 if cnt1 > cnt2 else l1\n",
    "    offset = abs(cnt1 - cnt2)\n",
    "    for _ in range(offset):\n",
    "        bigger = bigger.next\n",
    "    while (bigger != smaller):\n",
    "        bigger = bigger.next; smaller = smaller.next\n",
    "    return bigger\n",
    "    \n",
    "    \n",
    "    \n",
    "    "
   ]
  },
  {
   "cell_type": "code",
   "execution_count": 347,
   "metadata": {},
   "outputs": [],
   "source": [
    "intersection = ListNode(\"a\")\n",
    "test_link1 = intersection\n",
    "test_link1.next = ListNode(\"c\")\n",
    "test_link2 = ListNode(\"a\")\n",
    "test_link2.next = intersection"
   ]
  },
  {
   "cell_type": "code",
   "execution_count": 349,
   "metadata": {},
   "outputs": [
    {
     "name": "stdout",
     "output_type": "stream",
     "text": [
      "c c\n"
     ]
    },
    {
     "data": {
      "text/plain": [
       "<__main__.ListNode at 0x1129151d0>"
      ]
     },
     "execution_count": 349,
     "metadata": {},
     "output_type": "execute_result"
    }
   ],
   "source": [
    "intersection_constant_space(test_link1,test_link2)"
   ]
  },
  {
   "cell_type": "code",
   "execution_count": 350,
   "metadata": {},
   "outputs": [
    {
     "name": "stdout",
     "output_type": "stream",
     "text": [
      "c a\n"
     ]
    }
   ],
   "source": [
    "test_link1 = ListNode(\"a\")\n",
    "test_link1.next = ListNode(\"c\")\n",
    "test_link2 = ListNode(\"a\")\n",
    "test_link2.next = ListNode(\"a\")\n",
    "#expect None\n",
    "intersection_constant_space(test_link1,test_link2)"
   ]
  },
  {
   "cell_type": "code",
   "execution_count": 354,
   "metadata": {},
   "outputs": [],
   "source": [
    "intersection = ListNode(7)\n",
    "intersection.next = ListNode(2)\n",
    "intersection.next.next = ListNode(1)\n",
    "\n",
    "test_link1 = ListNode(3)\n",
    "test_link1.next = ListNode(1)\n",
    "test_link1.next.next = ListNode(5)\n",
    "test_link1.next.next.next = ListNode(9)\n",
    "test_link1.next.next.next.next = intersection\n",
    "test_link2 = ListNode(4)\n",
    "test_link2.next = ListNode(6)\n",
    "test_link2.next.next = intersection"
   ]
  },
  {
   "cell_type": "code",
   "execution_count": 355,
   "metadata": {},
   "outputs": [
    {
     "data": {
      "text/plain": [
       "True"
      ]
     },
     "execution_count": 355,
     "metadata": {},
     "output_type": "execute_result"
    }
   ],
   "source": [
    "intersection_constant_space(test_link1,test_link2).val == 7"
   ]
  },
  {
   "cell_type": "markdown",
   "metadata": {},
   "source": [
    "## Tips\n",
    "1. Intersection of LinkedList means the node from which all nodes are equal be reference"
   ]
  },
  {
   "cell_type": "markdown",
   "metadata": {},
   "source": [
    "## 2.8 Loop Detection: Given a circular linked list, implement an algorithm that returns the node at the beginning of the loop.\n",
    "DEFINITION\n",
    "Circular linked list: A (corrupt) linked list in which a node's next pointer points to an earlier node, so as to make a loop in the linked list.\n",
    "EXAMPLE\n",
    "Input: A -> B -> C -> D -> E -> C[thesameCasearlier]\n",
    "Output: C"
   ]
  },
  {
   "cell_type": "code",
   "execution_count": 367,
   "metadata": {},
   "outputs": [],
   "source": [
    "def loop_detect(link):\n",
    "    if not link:\n",
    "        return None\n",
    "    faster = slow = link\n",
    "    no_loop = True\n",
    "    while(faster.next and faster.next.next):\n",
    "        faster = faster.next.next\n",
    "        slow = slow.next\n",
    "        if slow == faster:\n",
    "            no_loop = False\n",
    "            break\n",
    "    if no_loop:\n",
    "        return None\n",
    "    slow = link\n",
    "    while(slow != faster):\n",
    "        faster = faster.next\n",
    "        slow = slow.next\n",
    "    return slow "
   ]
  },
  {
   "cell_type": "code",
   "execution_count": 368,
   "metadata": {},
   "outputs": [
    {
     "data": {
      "text/plain": [
       "'c'"
      ]
     },
     "execution_count": 368,
     "metadata": {},
     "output_type": "execute_result"
    }
   ],
   "source": [
    "loop = ListNode(\"c\")\n",
    "test_link3 = ListNode(\"a\")\n",
    "test_link3.next = ListNode(\"b\")\n",
    "test_link3.next.next = loop\n",
    "test_link3.next.next.next = ListNode(\"d\")\n",
    "test_link3.next.next.next.next = ListNode(\"e\")\n",
    "test_link3.next.next.next.next.next = loop\n",
    "loop_detect(test_link3).val"
   ]
  },
  {
   "cell_type": "code",
   "execution_count": 369,
   "metadata": {},
   "outputs": [],
   "source": [
    "test_link3 = ListNode(\"a\")\n",
    "test_link3.next = ListNode(\"b\")\n",
    "test_link3.next.next = ListNode(\"c\")\n",
    "test_link3.next.next.next = ListNode(\"d\")\n",
    "test_link3.next.next.next.next = ListNode(\"e\")\n",
    "test_link3.next.next.next.next.next = ListNode(\"c\")\n",
    "loop_detect(test_link3)"
   ]
  },
  {
   "cell_type": "markdown",
   "metadata": {},
   "source": [
    "## Tips\n",
    "1. Classic Problems need great attention. The trick: two runners, different speed, when collides, move one to head, then move at same speed. \n",
    "2. The proof is in the book."
   ]
  },
  {
   "cell_type": "code",
   "execution_count": null,
   "metadata": {},
   "outputs": [],
   "source": []
  }
 ],
 "metadata": {
  "kernelspec": {
   "display_name": "Python 3",
   "language": "python",
   "name": "python3"
  },
  "language_info": {
   "codemirror_mode": {
    "name": "ipython",
    "version": 3
   },
   "file_extension": ".py",
   "mimetype": "text/x-python",
   "name": "python",
   "nbconvert_exporter": "python",
   "pygments_lexer": "ipython3",
   "version": "3.7.0"
  }
 },
 "nbformat": 4,
 "nbformat_minor": 2
}
